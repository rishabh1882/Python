{
 "cells": [
  {
   "cell_type": "code",
   "execution_count": 1,
   "id": "0f8030c0",
   "metadata": {},
   "outputs": [
    {
     "name": "stdout",
     "output_type": "stream",
     "text": [
      "()\n",
      "<class 'tuple'>\n"
     ]
    }
   ],
   "source": [
    "#1. Program to create a Tuple\n",
    "a=()\n",
    "print(a)\n",
    "print(type(a))"
   ]
  },
  {
   "cell_type": "code",
   "execution_count": 3,
   "id": "c0bb65e5",
   "metadata": {},
   "outputs": [
    {
     "name": "stdout",
     "output_type": "stream",
     "text": [
      "('Ram', 'Kriti', 345, 5.22, 'Rishabh', 'A')\n",
      "<class 'tuple'>\n"
     ]
    }
   ],
   "source": [
    "# 2.Program to create a tuple with different data types\n",
    "b=('Ram','Kriti',345,5.22,'Rishabh','A')\n",
    "print(b)\n",
    "print(type(b))"
   ]
  },
  {
   "cell_type": "code",
   "execution_count": 4,
   "id": "7d62c3d4",
   "metadata": {},
   "outputs": [
    {
     "data": {
      "text/plain": [
       "12"
      ]
     },
     "execution_count": 4,
     "metadata": {},
     "output_type": "execute_result"
    }
   ],
   "source": [
    "#3.  Program to create a tuple with numbers and print one item\n",
    "c=(23,12,56,14)\n",
    "c[1]"
   ]
  },
  {
   "cell_type": "code",
   "execution_count": 12,
   "id": "1c8a4832",
   "metadata": {},
   "outputs": [
    {
     "name": "stdout",
     "output_type": "stream",
     "text": [
      "var1: India\n",
      "var2: 10\n",
      "var2: Country\n",
      "var2: 4\n"
     ]
    }
   ],
   "source": [
    "#4. Write a Python program to unpack a tuple in several variables\n",
    "d=('India',10,'Country',4)\n",
    "var1,var2,var3,var4=d\n",
    "print(\"var1:\",var1)\n",
    "print(\"var2:\",var2)\n",
    "print(\"var2:\",var3)\n",
    "print(\"var2:\",var4)"
   ]
  },
  {
   "cell_type": "code",
   "execution_count": 18,
   "id": "7586f268",
   "metadata": {},
   "outputs": [
    {
     "name": "stdout",
     "output_type": "stream",
     "text": [
      "('tree', 'mountain', 'river')\n",
      "<class 'tuple'>\n"
     ]
    }
   ],
   "source": [
    "#5.Write a Python program to add an item in a tuple\n",
    "old=('tree','mountain','river')\n",
    "print(old)\n",
    "print(type(old))"
   ]
  },
  {
   "cell_type": "code",
   "execution_count": 35,
   "id": "445ed5f5",
   "metadata": {},
   "outputs": [
    {
     "name": "stdout",
     "output_type": "stream",
     "text": [
      "('nature',)\n",
      "<class 'tuple'>\n"
     ]
    }
   ],
   "source": [
    "new_item=('nature',)\n",
    "print(new_item)\n",
    "print(type(new_item))"
   ]
  },
  {
   "cell_type": "code",
   "execution_count": 37,
   "id": "74cc2a2c",
   "metadata": {},
   "outputs": [
    {
     "name": "stdout",
     "output_type": "stream",
     "text": [
      "('tree', 'mountain', 'river', 'nature')\n"
     ]
    }
   ],
   "source": [
    "new_statement=old+new_item\n",
    "print(new_statement)"
   ]
  },
  {
   "cell_type": "code",
   "execution_count": 38,
   "id": "96cc3502",
   "metadata": {},
   "outputs": [
    {
     "name": "stdout",
     "output_type": "stream",
     "text": [
      "('t', 'u', 't', 'o', 'r')\n",
      "<class 'tuple'>\n"
     ]
    }
   ],
   "source": [
    "#6. Write a Python program to convert a tuple to a string\n",
    "tup=('t','u','t','o','r')\n",
    "print(tup)\n",
    "print(type(tup))"
   ]
  },
  {
   "cell_type": "code",
   "execution_count": 43,
   "id": "67c44f36",
   "metadata": {},
   "outputs": [
    {
     "name": "stdout",
     "output_type": "stream",
     "text": [
      "tutor\n",
      "<class 'str'>\n"
     ]
    }
   ],
   "source": [
    "st=''.join(tup)\n",
    "print(st)\n",
    "print(type(st))"
   ]
  },
  {
   "cell_type": "code",
   "execution_count": 44,
   "id": "39033320",
   "metadata": {},
   "outputs": [
    {
     "name": "stdout",
     "output_type": "stream",
     "text": [
      "(23, 34, 45, 56, 67, 46, 46, 90, 87, 65)\n"
     ]
    }
   ],
   "source": [
    "#7. Write a Python program to get the 4th element and 4th element from last of a tuple\n",
    "f=(23,34,45,56,67,46,46,90,87,65)\n",
    "print(f)"
   ]
  },
  {
   "cell_type": "code",
   "execution_count": 45,
   "id": "bca1078b",
   "metadata": {},
   "outputs": [
    {
     "name": "stdout",
     "output_type": "stream",
     "text": [
      "4th element from tuple: 56\n",
      "4th element from last in tuple 46\n"
     ]
    }
   ],
   "source": [
    "print(\"4th element from tuple:\",f[3])\n",
    "print(\"4th element from last in tuple\",f[-4])"
   ]
  },
  {
   "cell_type": "code",
   "execution_count": 46,
   "id": "e93ce232",
   "metadata": {},
   "outputs": [
    {
     "name": "stdout",
     "output_type": "stream",
     "text": [
      "(234, 54, 'iron', 44, 'True', 'false', 'tutor')\n"
     ]
    }
   ],
   "source": [
    "#8. . Write a Python program to create the colon of a tuple \n",
    "## creating a colon means to create a new tuple that contains all elements of original tuple except first and last elements\n",
    "orig=(234,54,'iron',44,'True','false','tutor')\n",
    "print(orig)"
   ]
  },
  {
   "cell_type": "code",
   "execution_count": 51,
   "id": "37283938",
   "metadata": {},
   "outputs": [
    {
     "name": "stdout",
     "output_type": "stream",
     "text": [
      "(54, 'iron', 44, 'True', 'false')\n"
     ]
    }
   ],
   "source": [
    "new_data=orig[1:-1]\n",
    "colon=new_data\n",
    "print(colon)"
   ]
  },
  {
   "cell_type": "code",
   "execution_count": 52,
   "id": "1fcf12dc",
   "metadata": {},
   "outputs": [
    {
     "name": "stdout",
     "output_type": "stream",
     "text": [
      "(234, 54, 'iron', 44, 'True', 'false', 'tutor')\n"
     ]
    }
   ],
   "source": [
    "# creating a copy\n",
    "cpy=tuple(orig)\n",
    "print(cpy)"
   ]
  },
  {
   "cell_type": "code",
   "execution_count": 85,
   "id": "afc65550",
   "metadata": {},
   "outputs": [
    {
     "name": "stdout",
     "output_type": "stream",
     "text": [
      "repeated items are: (23, 90, 87)\n"
     ]
    }
   ],
   "source": [
    "#9. Write a Python program to find the repeated items of a tuple\n",
    "ab=(23,90,87,23,43,77,87,1,12,23,90,87)\n",
    "repeated=[]\n",
    "for i in ab:\n",
    "    if ab.count(i)>1 and i not in repeated:\n",
    "        repeated.append(i)\n",
    "repeated_item=tuple(repeated)\n",
    "print(\"repeated items are:\", repeated_item)\n",
    "\n",
    "\n",
    "        "
   ]
  },
  {
   "cell_type": "code",
   "execution_count": 1,
   "id": "3883dacc",
   "metadata": {},
   "outputs": [
    {
     "name": "stdout",
     "output_type": "stream",
     "text": [
      "(23, 34, 5, 345, 90, 87)\n"
     ]
    }
   ],
   "source": [
    "# 10. Write a Python program to check whether an element exists within a tuple\n",
    "tp=(23,34,5,345,90,87)\n",
    "print(tp)"
   ]
  },
  {
   "cell_type": "code",
   "execution_count": 14,
   "id": "ec025543",
   "metadata": {},
   "outputs": [
    {
     "name": "stdout",
     "output_type": "stream",
     "text": [
      "Enter element to check: 87\n",
      "element to check 87\n",
      "True\n"
     ]
    }
   ],
   "source": [
    "a=int(input(\"Enter element to check: \"))\n",
    "print(\"element to check\",a)\n",
    "if a in tp:\n",
    "    print(\"True\")\n",
    "else:\n",
    "    print(\"False\")"
   ]
  },
  {
   "cell_type": "code",
   "execution_count": 15,
   "id": "34fb3a50",
   "metadata": {},
   "outputs": [
    {
     "name": "stdout",
     "output_type": "stream",
     "text": [
      "[24, 'fan', 54, 43, 'table']\n",
      "<class 'list'>\n"
     ]
    }
   ],
   "source": [
    "#11. Write a Python program to convert a list to a tuple\n",
    "l= [24,\"fan\",54,43,\"table\"]\n",
    "print(l)\n",
    "print(type(l))"
   ]
  },
  {
   "cell_type": "code",
   "execution_count": 16,
   "id": "ce9fdfd7",
   "metadata": {},
   "outputs": [
    {
     "name": "stdout",
     "output_type": "stream",
     "text": [
      "(24, 'fan', 54, 43, 'table')\n",
      "<class 'tuple'>\n"
     ]
    }
   ],
   "source": [
    "tup=tuple(l)\n",
    "print(tup)\n",
    "print(type(tup))"
   ]
  },
  {
   "cell_type": "code",
   "execution_count": 17,
   "id": "602bc377",
   "metadata": {},
   "outputs": [
    {
     "name": "stdout",
     "output_type": "stream",
     "text": [
      "(47, 52, 'lion', 26, 'deer')\n"
     ]
    }
   ],
   "source": [
    "# 12. Write a Python program to remove an item from a tuple\n",
    "orig=(47,52,'lion',26,'deer')\n",
    "print(orig)"
   ]
  },
  {
   "cell_type": "code",
   "execution_count": 18,
   "id": "f70af5e0",
   "metadata": {},
   "outputs": [
    {
     "name": "stdout",
     "output_type": "stream",
     "text": [
      "[47, 52, 'lion', 26, 'deer']\n"
     ]
    }
   ],
   "source": [
    "orig1=list(orig)\n",
    "print(orig1)"
   ]
  },
  {
   "cell_type": "code",
   "execution_count": 19,
   "id": "8bdd37e0",
   "metadata": {},
   "outputs": [
    {
     "name": "stdout",
     "output_type": "stream",
     "text": [
      "[47, 52, 'lion', 'deer']\n"
     ]
    }
   ],
   "source": [
    "orig1.remove(26)\n",
    "print(orig1)"
   ]
  },
  {
   "cell_type": "code",
   "execution_count": 21,
   "id": "da16cb8c",
   "metadata": {},
   "outputs": [
    {
     "name": "stdout",
     "output_type": "stream",
     "text": [
      "(47, 52, 'lion', 'deer')\n",
      "<class 'tuple'>\n"
     ]
    }
   ],
   "source": [
    "final=tuple(orig1)\n",
    "print(final)\n",
    "print(type(final))"
   ]
  },
  {
   "cell_type": "code",
   "execution_count": 1,
   "id": "d3b1d93a",
   "metadata": {},
   "outputs": [
    {
     "name": "stdout",
     "output_type": "stream",
     "text": [
      "(23, 345, 24, 56, 76, 86, 37, 90, 89)\n"
     ]
    }
   ],
   "source": [
    "#13.  Write a Python program to slice a tuple\n",
    "m=(23,345,24,56,76,86,37,90,89)\n",
    "print(m)"
   ]
  },
  {
   "cell_type": "code",
   "execution_count": 2,
   "id": "8c2cbf07",
   "metadata": {},
   "outputs": [
    {
     "name": "stdout",
     "output_type": "stream",
     "text": [
      "(24, 56, 76, 86)\n"
     ]
    }
   ],
   "source": [
    "n=m[2:6]\n",
    "print(n)"
   ]
  },
  {
   "cell_type": "code",
   "execution_count": 3,
   "id": "7f9201a0",
   "metadata": {},
   "outputs": [
    {
     "name": "stdout",
     "output_type": "stream",
     "text": [
      "<class 'tuple'>\n"
     ]
    }
   ],
   "source": [
    "print(type(n))"
   ]
  },
  {
   "cell_type": "code",
   "execution_count": 10,
   "id": "cf2fa613",
   "metadata": {},
   "outputs": [
    {
     "name": "stdout",
     "output_type": "stream",
     "text": [
      "(12, 23, 34, 45, 56, 67)\n",
      "index of item is: 3\n"
     ]
    }
   ],
   "source": [
    "#14. Write a Python program to find the index of an item of a tuple\n",
    "j=(12,23,34,45,56,67)\n",
    "print(j)\n",
    "print(\"index of item is:\",j.index(45))\n"
   ]
  },
  {
   "cell_type": "code",
   "execution_count": 17,
   "id": "bd6cd6b8",
   "metadata": {},
   "outputs": [
    {
     "name": "stdout",
     "output_type": "stream",
     "text": [
      "5\n"
     ]
    }
   ],
   "source": [
    "#15. Write a Python program to find the length of a tuple\n",
    "n=(24,98,65,890,435)\n",
    "print(len(n))"
   ]
  },
  {
   "cell_type": "code",
   "execution_count": 13,
   "id": "f0db5a73",
   "metadata": {},
   "outputs": [
    {
     "name": "stdout",
     "output_type": "stream",
     "text": [
      "(('Name', 'Ram'), ('Age', 23), ('City', 'Salem'), ('Mark', 422))\n",
      "<class 'tuple'>\n"
     ]
    }
   ],
   "source": [
    "#16.  Write a Python program to convert a tuple to a dictionary\n",
    "data1=( (\"Name\", \"Ram\"), (\"Age\", 23), (\"City\", \"Salem\"), (\"Mark\", 422) )\n",
    "print(data1)\n",
    "print(type(data1))"
   ]
  },
  {
   "cell_type": "code",
   "execution_count": 14,
   "id": "becbc3d0",
   "metadata": {},
   "outputs": [
    {
     "name": "stdout",
     "output_type": "stream",
     "text": [
      "{'Name': 'Ram', 'Age': 23, 'City': 'Salem', 'Mark': 422}\n",
      "<class 'dict'>\n"
     ]
    }
   ],
   "source": [
    "dict1=dict(data1)\n",
    "print(dict1)\n",
    "print(type(dict1))"
   ]
  },
  {
   "cell_type": "code",
   "execution_count": 15,
   "id": "eef86754",
   "metadata": {},
   "outputs": [
    {
     "name": "stdout",
     "output_type": "stream",
     "text": [
      "[(2, 5, 94), (3, 78, 71)]\n"
     ]
    }
   ],
   "source": [
    "#17. Write a Python program to unzip a list of tuples into individual lists\n",
    "l=((2,3),(5,78),(94,71))\n",
    "result=list(zip(*l)) ## Here, zip() function and unzip operator * is used\n",
    "print(result)"
   ]
  },
  {
   "cell_type": "code",
   "execution_count": 20,
   "id": "4c3ed13f",
   "metadata": {},
   "outputs": [
    {
     "name": "stdout",
     "output_type": "stream",
     "text": [
      "(254, 51, 87, 70, 34)\n"
     ]
    }
   ],
   "source": [
    "# 18. Write a Python program to reverse a tuple\n",
    "forward= (34,70,87,51,254)\n",
    "back=forward[::-1]\n",
    "print(back)\n"
   ]
  },
  {
   "cell_type": "code",
   "execution_count": 21,
   "id": "3105ebb5",
   "metadata": {},
   "outputs": [
    {
     "name": "stdout",
     "output_type": "stream",
     "text": [
      "[('Name', 'Ram'), ('Name', 'Pooja'), ('Age', 21), ('Gender', 'Male'), ('Age', 23), ('Gender', 'Female')]\n",
      "<class 'list'>\n"
     ]
    }
   ],
   "source": [
    "#19. Write a Python program to convert a list of tuples into a dictionary\n",
    "my_tuple= [ (\"Name\", \"Ram\"), (\"Name\", \"Pooja\"), (\"Age\", 21), (\"Gender\", \"Male\"), (\"Age\", 23), (\"Gender\", \n",
    "\"Female\") ]\n",
    "print(my_tuple)\n",
    "print(type(my_tuple))"
   ]
  },
  {
   "cell_type": "code",
   "execution_count": 23,
   "id": "2a63c52e",
   "metadata": {},
   "outputs": [
    {
     "name": "stdout",
     "output_type": "stream",
     "text": [
      "{'Name': 'Pooja', 'Age': 23, 'Gender': 'Female'}\n"
     ]
    }
   ],
   "source": [
    "dict2=dict(my_tuple)\n",
    "print(dict2)"
   ]
  },
  {
   "cell_type": "code",
   "execution_count": 26,
   "id": "05f7db27",
   "metadata": {},
   "outputs": [
    {
     "name": "stdout",
     "output_type": "stream",
     "text": [
      "Fruits: watermelons,strawberries,mangoes,bananas,grapefruits,oranges,apples,pears\n"
     ]
    }
   ],
   "source": [
    "#20.  Write a Python program to print a tuple with string formatting\n",
    "fr= (\"watermelons\", \"strawberries\", \"mangoes\", \"bananas\", \"grapefruits\", \"oranges\", \"apples\", \n",
    "\"pears\")\n",
    "print(\"Fruits: {},{},{},{},{},{},{},{}\".format(*fr))"
   ]
  },
  {
   "cell_type": "code",
   "execution_count": 30,
   "id": "60d0cf5a",
   "metadata": {},
   "outputs": [
    {
     "name": "stdout",
     "output_type": "stream",
     "text": [
      "(23,)\n",
      "<class 'tuple'>\n"
     ]
    }
   ],
   "source": [
    "#21.  Create a tuple with single item 23\n",
    "single_item=(23,)\n",
    "print(single_item)\n",
    "print(type(single_item))"
   ]
  },
  {
   "cell_type": "code",
   "execution_count": 31,
   "id": "3c4195c9",
   "metadata": {},
   "outputs": [
    {
     "name": "stdout",
     "output_type": "stream",
     "text": [
      "(11, 22, 333, 44, 55)\n"
     ]
    }
   ],
   "source": [
    "#22. Unpack the tuple into 5 variables\n",
    "my_tuple=(11, 22, 333, 44, 55)\n",
    "var1,var2,var3,var4,var5=my_tuple\n",
    "print(my_tuple)"
   ]
  },
  {
   "cell_type": "code",
   "execution_count": 32,
   "id": "196c5bf2",
   "metadata": {},
   "outputs": [
    {
     "name": "stdout",
     "output_type": "stream",
     "text": [
      "11\n",
      "22\n",
      "333\n",
      "44\n",
      "55\n"
     ]
    }
   ],
   "source": [
    "for i in my_tuple:\n",
    "    print(i)"
   ]
  },
  {
   "cell_type": "code",
   "execution_count": 33,
   "id": "49caa751",
   "metadata": {},
   "outputs": [
    {
     "name": "stdout",
     "output_type": "stream",
     "text": [
      "original tuple1:  (1, 2, 3)\n",
      "original tuple2:  ('a', 'b', 'c')\n",
      "swapped tuple1:  ('a', 'b', 'c')\n",
      "swapped tuple2:  (1, 2, 3)\n"
     ]
    }
   ],
   "source": [
    "#23.  Swap two tuples in Python\n",
    "tuple1=(1,2,3)\n",
    "tuple2=('a','b','c')\n",
    "print(\"original tuple1: \", tuple1)\n",
    "print(\"original tuple2: \", tuple2)\n",
    "temp=tuple1 #introducing a temporary variable 'temp' to store the value\n",
    "tuple1=tuple2\n",
    "tuple2=temp\n",
    "print(\"swapped tuple1: \",tuple1)\n",
    "print(\"swapped tuple2: \",tuple2)"
   ]
  },
  {
   "cell_type": "code",
   "execution_count": null,
   "id": "3b4177c2",
   "metadata": {},
   "outputs": [],
   "source": [
    "#24. Copy specific elements from one tuple to a new tuple"
   ]
  },
  {
   "cell_type": "code",
   "execution_count": 34,
   "id": "bf28978f",
   "metadata": {},
   "outputs": [
    {
     "name": "stdout",
     "output_type": "stream",
     "text": [
      "(67, 36, 44, 77)\n"
     ]
    }
   ],
   "source": [
    "orig_tuple=(1,4,67,36,44,77,23,58,37)\n",
    "copy_element=orig_tuple[2:6]\n",
    "print(copy_element)"
   ]
  },
  {
   "cell_type": "code",
   "execution_count": 1,
   "id": "2f63bc38",
   "metadata": {},
   "outputs": [
    {
     "name": "stdout",
     "output_type": "stream",
     "text": [
      "[12, 23, 345, 65, 67]\n"
     ]
    }
   ],
   "source": [
    "#25. Modify the tuple\n",
    "f=(12,23,345,65,67)\n",
    "j=list(f)\n",
    "print(j)"
   ]
  },
  {
   "cell_type": "code",
   "execution_count": 2,
   "id": "b312da12",
   "metadata": {},
   "outputs": [
    {
     "name": "stdout",
     "output_type": "stream",
     "text": [
      "(12, 23, 170, 65, 67)\n"
     ]
    }
   ],
   "source": [
    "j[2]=170\n",
    "f1=tuple(j)\n",
    "print(f1)"
   ]
  },
  {
   "cell_type": "code",
   "execution_count": 4,
   "id": "1720c014",
   "metadata": {},
   "outputs": [
    {
     "name": "stdout",
     "output_type": "stream",
     "text": [
      "Original Tuple: ((1, 5), (3, 2), (9, 10), (7, 6))\n",
      "Sorted Tuple by the 2nd item: ((3, 2), (1, 5), (7, 6), (9, 10))\n"
     ]
    }
   ],
   "source": [
    "#26. Sort a tuple of tuples by 2nd item\n",
    "# Original tuple of tuples\n",
    "original_tuple = ((1, 5), (3, 2), (9, 10), (7, 6))\n",
    "\n",
    "# Sort the tuple of tuples by the second item in each tuple\n",
    "sorted_tuple = tuple(sorted(original_tuple, key=lambda x: x[1]))\n",
    "\n",
    "print(\"Original Tuple:\", original_tuple)\n",
    "print(\"Sorted Tuple by the 2nd item:\", sorted_tuple)\n"
   ]
  },
  {
   "cell_type": "code",
   "execution_count": 1,
   "id": "ad20b0a8",
   "metadata": {},
   "outputs": [
    {
     "name": "stdout",
     "output_type": "stream",
     "text": [
      "count of 30 is  3\n"
     ]
    }
   ],
   "source": [
    "#27. Count the number of occurrences of item 30 from a tuple\n",
    "h=(30, 50, 10, 30, 70, 50, 30)\n",
    "count_of_30= h.count(30)\n",
    "print(\"count of 30 is \",count_of_30)"
   ]
  },
  {
   "cell_type": "code",
   "execution_count": 6,
   "id": "7d116347",
   "metadata": {},
   "outputs": [
    {
     "name": "stdout",
     "output_type": "stream",
     "text": [
      "sum of elements= (12, 15, 18)\n"
     ]
    }
   ],
   "source": [
    "#28. Write a Python program to compute element-wise sum of given tuples\n",
    "tuple1=(1,2,3)\n",
    "tuple2=(4,5,6)\n",
    "tuple3=(7,8,9)\n",
    "result_tuple = tuple(x + y + z for x, y, z in zip(tuple1, tuple2, tuple3))\n",
    "     \n",
    "print(\"sum of elements=\",result_tuple)"
   ]
  },
  {
   "cell_type": "code",
   "execution_count": 7,
   "id": "6017a181",
   "metadata": {},
   "outputs": [
    {
     "name": "stdout",
     "output_type": "stream",
     "text": [
      "sorted tuple by float element (('David', 15.9), ('Bob', 20.3), ('Alice', 25.5), ('Charlie', 30.1))\n"
     ]
    }
   ],
   "source": [
    "#29. Write a Python program to sort a tuple by its float element\n",
    "my_tuple = ( ('Alice', 25.5), ('Bob', 20.3), ('Charlie', 30.1), ('David', 15.9) )\n",
    "sorted_tuple=tuple(sorted(my_tuple,key =lambda x:x[1])) # Sort the tuple based on float element (index 1)\n",
    "print(\"sorted tuple by float element\", sorted_tuple)"
   ]
  },
  {
   "cell_type": "code",
   "execution_count": 1,
   "id": "3fda1fcc",
   "metadata": {},
   "outputs": [],
   "source": [
    "#30. Write a Python program to replace last value of tuples in a list\n",
    "list_of_tuples = [(5, 2, 3), (4, 7, 6), (8, 9, 6)]"
   ]
  },
  {
   "cell_type": "code",
   "execution_count": 2,
   "id": "2f13729c",
   "metadata": {},
   "outputs": [
    {
     "name": "stdout",
     "output_type": "stream",
     "text": [
      "[(5, 2, 3), (4, 7, 6), (8, 9, 6)]\n",
      "Replace value = 10\n",
      "[(5, 2, 10), (4, 7, 10), (8, 9, 10)]\n"
     ]
    }
   ],
   "source": [
    "# Value to replace the last element with\n",
    "replace_value = 10\n",
    "\n",
    "# Replace the last value in each tuple\n",
    "modified_list = [(t[:-1] + (replace_value,)) for t in list_of_tuples]\n",
    "\n",
    "# Print the original list and the modified list\n",
    "print(list_of_tuples)\n",
    "print(\"Replace value =\", replace_value)\n",
    "print(modified_list)"
   ]
  },
  {
   "cell_type": "code",
   "execution_count": 10,
   "id": "6e04d260",
   "metadata": {},
   "outputs": [
    {
     "name": "stdout",
     "output_type": "stream",
     "text": [
      "The original list is :  [(54, 2), (34, 55), (222, 23), (12, 45), (78, 25)]\n",
      "The Extracted tuples :  [(34, 55), (12, 45), (78, 25)]\n"
     ]
    }
   ],
   "source": [
    "#31. Write a Python program to Extract tuples having K digit elements\n",
    "# Using all() + list comprehension\n",
    "\n",
    "test_list = [(54, 2), (34, 55), (222, 23), (12, 45), (78,25 )]\n",
    "\n",
    "print(\"The original list is : \", test_list)\n",
    "\n",
    "K = 2\n",
    "\n",
    "# using len() and str() to check length and \n",
    "# perform string conversion\n",
    "result = [sub for sub in test_list if all(len(str(ele)) == K for ele in sub)]\n",
    "\n",
    "print(\"The Extracted tuples : \",result)\n"
   ]
  },
  {
   "cell_type": "code",
   "execution_count": 12,
   "id": "3d00fa2c",
   "metadata": {},
   "outputs": [
    {
     "name": "stdout",
     "output_type": "stream",
     "text": [
      "[(18, 23), (2, 9), (7, 6), (9, 2), (10, 2), (23, 18)]\n",
      "{(2, 9), (23, 18), (18, 23), (9, 2)}\n"
     ]
    }
   ],
   "source": [
    "# 32. Write a Python program to Extract Symmetric Tuples\n",
    "list_of_tuples = [(18, 23), (2, 9), (7, 6), (9, 2), (10, 2), (23, 18)]\n",
    "\n",
    "# Extract symmetric tuples\n",
    "symmetric_set = set()\n",
    "for t in list_of_tuples:\n",
    "    if t[::-1] in list_of_tuples:\n",
    "        symmetric_set.add(t)\n",
    "\n",
    "# Print the original list and the set of symmetric tuples\n",
    "print(list_of_tuples)\n",
    "print(symmetric_set)\n"
   ]
  },
  {
   "cell_type": "code",
   "execution_count": 16,
   "id": "f085c331",
   "metadata": {},
   "outputs": [
    {
     "name": "stdout",
     "output_type": "stream",
     "text": [
      "The original list is :  [(4, 5, 5, 7), (1, 3, 7, 4), (19, 4, 5, 3), (1, 2)]\n",
      "Sorted Tuples :  [(19, 4, 5, 3), (4, 5, 5, 7), (1, 3, 7, 4), (1, 2)]\n"
     ]
    }
   ],
   "source": [
    "#33. Write a Python program to Sort Tuples by their Maximum element\n",
    "\n",
    "\n",
    "def get_max(sub):\n",
    "    return max(sub)\n",
    "\n",
    "test_list = [(4, 5, 5, 7), (1, 3, 7, 4), (19, 4, 5, 3), (1, 2)]\n",
    "\n",
    "print(\"The original list is : \", test_list)\n",
    "\n",
    "test_list.sort(key = get_max, reverse = True)\n",
    "\n",
    "print(\"Sorted Tuples : \",test_list)\n"
   ]
  },
  {
   "cell_type": "code",
   "execution_count": 17,
   "id": "166d79a2",
   "metadata": {},
   "outputs": [
    {
     "name": "stdout",
     "output_type": "stream",
     "text": [
      "Tuple without nested records: (1, 2, 5, 9)\n"
     ]
    }
   ],
   "source": [
    "#34. Write a Python program to Remove nested records from tuple\n",
    "\n",
    "tuple_with_nested = (1, 2, (3, 4), 5, (6, (7, 8)), 9)\n",
    "\n",
    "flattened_tuple = tuple(item for item in tuple_with_nested if not isinstance(item, tuple))\n",
    "\n",
    "print(\"Tuple without nested records:\", flattened_tuple)\n"
   ]
  },
  {
   "cell_type": "code",
   "execution_count": 18,
   "id": "f90af3d3",
   "metadata": {},
   "outputs": [
    {
     "name": "stdout",
     "output_type": "stream",
     "text": [
      "Element frequencies in tuple:\n",
      "1: 2\n",
      "2: 4\n",
      "3: 2\n",
      "4: 1\n",
      "5: 2\n"
     ]
    }
   ],
   "source": [
    "#35. Write a Python program to print Elements Frequency\n",
    "from collections import Counter\n",
    "\n",
    "my_tuple = (1, 2, 3, 2, 2, 3, 4, 5, 1, 2, 5)\n",
    "\n",
    "my_list = list(my_tuple)# convert into a list\n",
    "\n",
    "frequency = Counter(my_list)\n",
    "\n",
    "print(\"Element frequencies in tuple:\")\n",
    "for element, count in frequency.items():\n",
    "    print(f\"{element}: {count}\")\n"
   ]
  },
  {
   "cell_type": "code",
   "execution_count": 19,
   "id": "0dc8a0ab",
   "metadata": {},
   "outputs": [
    {
     "name": "stdout",
     "output_type": "stream",
     "text": [
      "Unique elements in nested tuple: {1, 2, 3, 4, 5, 6}\n"
     ]
    }
   ],
   "source": [
    "#36. Write a Python program to get unique elements in nested tuple\n",
    "\n",
    "nested_tuple = ((1, 2, 3), (2, 3, 4), (3, 4, 5), (4, 5, 6))\n",
    "unique_elements = {element for tup in nested_tuple for element in tup}\n",
    "print(\"Unique elements in nested tuple:\", unique_elements)\n"
   ]
  },
  {
   "cell_type": "code",
   "execution_count": 20,
   "id": "f1b959b1",
   "metadata": {},
   "outputs": [
    {
     "name": "stdout",
     "output_type": "stream",
     "text": [
      "Tuple 1: (18, 23, 2, 9)\n",
      "Tuple 2: (10, 3, 11)\n",
      "Tuples after Concatenating: ((18, 23, 2, 9), (10, 3, 11))\n"
     ]
    }
   ],
   "source": [
    "#37. Write a Python program to Concatenate tuples to nested tuples\n",
    "tuple1 = (18, 23, 2, 9)\n",
    "tuple2 = (10, 3, 11)\n",
    "\n",
    "# Concatenate the tuples into a nested tuple\n",
    "concatenated_tuple = (tuple1, tuple2)\n",
    "\n",
    "# Print the original tuples and the concatenated result\n",
    "print(\"Tuple 1:\", tuple1)\n",
    "print(\"Tuple 2:\", tuple2)\n",
    "print(\"Tuples after Concatenating:\", concatenated_tuple)\n"
   ]
  },
  {
   "cell_type": "code",
   "execution_count": 21,
   "id": "fcc7f436",
   "metadata": {},
   "outputs": [
    {
     "name": "stdout",
     "output_type": "stream",
     "text": [
      "Original List of Tuples: [(2, 7), (3, 7), (2, 5), (8, 7), (6, 5), (9, 8)]\n",
      "Sorted List of Tuples: [(9, 8), (2, 5), (6, 5), (2, 7), (3, 7), (8, 7)]\n"
     ]
    }
   ],
   "source": [
    "#38. Write a Python program to Sort by Frequency of second element in Tuple List\n",
    "tuple_list = [(2, 7), (3, 7), (2, 5), (8, 7), (6, 5), (9, 8)]\n",
    "\n",
    "# Create a dictionary to count the frequency of the second elements\n",
    "frequency_dict = {}\n",
    "for tup in tuple_list:\n",
    "    frequency_dict[tup[1]] = frequency_dict.get(tup[1], 0) + 1\n",
    "\n",
    "# Custom sorting key function to sort by the frequency of the second element\n",
    "def sort_by_frequency(tup):\n",
    "    return frequency_dict[tup[1]]\n",
    "\n",
    "# Sort the list of tuples using the custom key function\n",
    "sorted_list = sorted(tuple_list, key=sort_by_frequency)\n",
    "\n",
    "# Print the original list of tuples and the sorted list\n",
    "print(\"Original List of Tuples:\", tuple_list)\n",
    "print(\"Sorted List of Tuples:\", sorted_list)"
   ]
  },
  {
   "cell_type": "code",
   "execution_count": 22,
   "id": "ce4b9eb4",
   "metadata": {},
   "outputs": [
    {
     "name": "stdout",
     "output_type": "stream",
     "text": [
      "Sorted tuple with lists:\n",
      "([1, 2, 3], [4, 5, 6], [7, 8, 9])\n"
     ]
    }
   ],
   "source": [
    "#39. Write a Program to sort lists in Tuple\n",
    "\n",
    "tuple_with_lists = ([3, 2, 1], [6, 5, 4], [9, 8, 7])\n",
    "\n",
    "sorted_tuple = tuple(sorted(sublist) for sublist in tuple_with_lists)\n",
    "\n",
    "\n",
    "print(\"Sorted tuple with lists:\")\n",
    "print(sorted_tuple)\n"
   ]
  },
  {
   "cell_type": "code",
   "execution_count": 23,
   "id": "5e856832",
   "metadata": {},
   "outputs": [
    {
     "name": "stdout",
     "output_type": "stream",
     "text": [
      "Ordered Tuples:\n",
      "(4, 'grape')\n",
      "(2, 'orange')\n",
      "(1, 'apple')\n",
      "(3, 'banana')\n"
     ]
    }
   ],
   "source": [
    "#40. Write a Python program to Order Tuples using external List\n",
    "\n",
    "tuple_list = [(1, 'apple'), (2, 'orange'), (3, 'banana'), (4, 'grape')]\n",
    "\n",
    "order = [3, 1, 0, 2]\n",
    "\n",
    "ordered_tuples = [tuple_list[i] for i in order]\n",
    "\n",
    "print(\"Ordered Tuples:\")\n",
    "for tup in ordered_tuples:\n",
    "    print(tup)\n"
   ]
  },
  {
   "cell_type": "code",
   "execution_count": 29,
   "id": "77c7a6f5",
   "metadata": {},
   "outputs": [
    {
     "name": "stdout",
     "output_type": "stream",
     "text": [
      "Tuples where the 1th element is 5:\n",
      "(4, 5, 6)\n"
     ]
    }
   ],
   "source": [
    "#41. Write a Python program to Filter Tuples by Kth element from List\n",
    "\n",
    "tuple_list = [(1, 2, 3), (4, 5, 6), (7, 8, 9), (10, 11, 12)]\n",
    "\n",
    "k = 1  \n",
    "value = 5  \n",
    "\n",
    "filtered_tuples = [tup for tup in tuple_list if tup[k] == value]\n",
    "\n",
    "print(f\"Tuples where the {k}th element is {value}:\")\n",
    "for tup in filtered_tuples:\n",
    "    print(tup)\n"
   ]
  },
  {
   "cell_type": "code",
   "execution_count": 1,
   "id": "a57a2849",
   "metadata": {},
   "outputs": [
    {
     "name": "stdout",
     "output_type": "stream",
     "text": [
      "The original list is : [(3, 4), (78, 76), (2, 3), (9, 8), (19, 23)]\n",
      "The nearest tuple to Kth index element is : (19, 23)\n"
     ]
    }
   ],
   "source": [
    "#42. Write a Python program to Closest Pair to Kth index element in Tuple\n",
    "\n",
    "# Using min() + lambda\n",
    "\n",
    "test_list = [(3, 4), (78, 76), (2, 3), (9, 8), (19, 23)]\n",
    "\n",
    "print(\"The original list is : \" + str(test_list))\n",
    "tup = (17, 23)\n",
    "K = 1\n",
    "\n",
    "# Closest Pair to Kth index element in Tuple\n",
    "# Using min() + lambda\n",
    "res = min(range(len(test_list)), key = lambda sub: abs(test_list[sub][K - 1] - tup[K - 1]))\n",
    "\n",
    "# printing result \n",
    "print(\"The nearest tuple to Kth index element is : \" + str(test_list[res])) \n"
   ]
  },
  {
   "cell_type": "code",
   "execution_count": 2,
   "id": "48572604",
   "metadata": {},
   "outputs": [
    {
     "name": "stdout",
     "output_type": "stream",
     "text": [
      "Intersection of tuple lists (order irrespective):\n",
      "[(5, 6), (3, 4)]\n"
     ]
    }
   ],
   "source": [
    "##43. Write a Python program to Tuple List intersection (Order irrespective)\n",
    "list1 = [(1, 2), (3, 4), (5, 6)]\n",
    "list2 = [(3, 4), (7, 8), (5, 6)]\n",
    "\n",
    "intersection = list(set(list1) & set(list2))\n",
    "\n",
    "print(\"Intersection of tuple lists (order irrespective):\")\n",
    "print(intersection)\n"
   ]
  },
  {
   "cell_type": "code",
   "execution_count": 3,
   "id": "133820ed",
   "metadata": {},
   "outputs": [
    {
     "name": "stdout",
     "output_type": "stream",
     "text": [
      "list 1: [('A', 65), ('D', 68), ('B', 66)]\n",
      "list 2: [('D', 68), ('C', 67), ('A', 65)]\n",
      "Intersection of data records: [('A', 65), ('D', 68)]\n"
     ]
    }
   ],
   "source": [
    "#44. Write a Python program to Intersection in Tuple Records Data\n",
    "list1 = [('A', 65), ('D', 68), ('B', 66)]\n",
    "list2 = [('D', 68), ('C', 67), ('A', 65)]\n",
    "\n",
    "# Find the intersection of data records\n",
    "intersection = [item for item in list1 if item in list2]\n",
    "\n",
    "# Print the original lists and the intersection\n",
    "print(\"list 1:\", list1)\n",
    "print(\"list 2:\", list2)\n",
    "print(\"Intersection of data records:\", intersection)\n"
   ]
  },
  {
   "cell_type": "code",
   "execution_count": 4,
   "id": "3990e9ac",
   "metadata": {},
   "outputs": [
    {
     "name": "stdout",
     "output_type": "stream",
     "text": [
      "Original list: [(3, 4), (1, 2), (4, 3), (5, 6)]\n",
      "Unique tuples Frequency: []\n",
      "Unique tuples Frequency Count: 0\n"
     ]
    }
   ],
   "source": [
    "#45. Write a Python program to Unique Tuple Frequency (Order Irrespective)\n",
    "list_of_tuples = [(3, 4), (1, 2), (4, 3), (5, 6)]\n",
    "\n",
    "# Create a set of sorted tuples to identify unique tuples\n",
    "unique_tuples = {tuple(sorted(t)) for t in list_of_tuples}\n",
    "\n",
    "# Count the frequency of each unique tuple\n",
    "frequency_count = {ut: list_of_tuples.count(ut) for ut in unique_tuples}\n",
    "\n",
    "# Filter out unique tuples with frequency count greater than 1\n",
    "unique_tuples_frequency = [ut for ut in frequency_count if frequency_count[ut] > 1]\n",
    "\n",
    "# Print the original list, unique tuples with frequency count, and their count\n",
    "print(\"Original list:\", list_of_tuples)\n",
    "print(\"Unique tuples Frequency:\", unique_tuples_frequency)\n",
    "print(\"Unique tuples Frequency Count:\", len(unique_tuples_frequency))\n"
   ]
  },
  {
   "cell_type": "code",
   "execution_count": 5,
   "id": "f2b82c98",
   "metadata": {},
   "outputs": [
    {
     "name": "stdout",
     "output_type": "stream",
     "text": [
      "(1, (2, (3, (4, (5, None)))))\n",
      "Summation of 1st positions: 15\n"
     ]
    }
   ],
   "source": [
    "#46. Write a Python program to Skew Nested Tuple Summation\n",
    "#Sample Output\n",
    "#(1, (2, (3, (4, (5, None)))))\n",
    "#Summation of 1st positions : 15\n",
    "\n",
    "def skew_nested_tuple_sum(tup):\n",
    "    if tup is None:\n",
    "        return 0\n",
    "    elif isinstance(tup, tuple):\n",
    "        return tup[0] + skew_nested_tuple_sum(tup[1])\n",
    "    else:\n",
    "        return tup\n",
    "\n",
    "# Sample nested tuple\n",
    "nested_tuple = (1, (2, (3, (4, (5, None)))))\n",
    "\n",
    "# Calculate the summation of 1st positions\n",
    "result = skew_nested_tuple_sum(nested_tuple)\n",
    "\n",
    "# Print the original nested tuple and the summation\n",
    "print(nested_tuple)\n",
    "print(\"Summation of 1st positions:\", result)\n"
   ]
  },
  {
   "cell_type": "code",
   "execution_count": 6,
   "id": "4d551767",
   "metadata": {},
   "outputs": [
    {
     "name": "stdout",
     "output_type": "stream",
     "text": [
      "Binary Tuple converted to Integer: 11\n"
     ]
    }
   ],
   "source": [
    "#47. Write a program to convert binary tuple to integer\n",
    "binary_tuple = (1, 0, 1, 1)\n",
    "\n",
    "decimal_value = 0\n",
    "power = len(binary_tuple) - 1\n",
    "\n",
    "for bit in binary_tuple:\n",
    "    if bit not in (0, 1):\n",
    "        print(\"Invalid binary tuple. It should contain only 0s and 1s.\")\n",
    "        break\n",
    "    decimal_value += bit * (2 ** power)\n",
    "    power -= 1\n",
    "\n",
    "print(\"Binary Tuple converted to Integer:\", decimal_value)\n"
   ]
  },
  {
   "cell_type": "code",
   "execution_count": 7,
   "id": "222940eb",
   "metadata": {},
   "outputs": [
    {
     "name": "stdout",
     "output_type": "stream",
     "text": [
      "Result of Tuple XOR Operation: (1, 1, 1, 1)\n"
     ]
    }
   ],
   "source": [
    "#48. Write a Python program to Tuple XOR operation\n",
    "tuple_a = (1, 0, 1, 0)\n",
    "tuple_b = (0, 1, 0, 1)\n",
    "\n",
    "if len(tuple_a) != len(tuple_b):\n",
    "    print(\"Tuples should have the same length for XOR operation.\")\n",
    "else:\n",
    "    xor_result = tuple(x ^ y for x, y in zip(tuple_a, tuple_b))\n",
    "    print(\"Result of Tuple XOR Operation:\", xor_result)\n"
   ]
  },
  {
   "cell_type": "code",
   "execution_count": 8,
   "id": "e12b2033",
   "metadata": {},
   "outputs": [
    {
     "name": "stdout",
     "output_type": "stream",
     "text": [
      "Tuple 1: (10, 4, 6, 9)\n",
      "Tuple 2: (5, 2, 3, 3)\n",
      "AND operation Between Tuple: (0, 0, 2, 1)\n"
     ]
    }
   ],
   "source": [
    "#49. Write a Python program to AND operation between Tuples\n",
    "tuple1 = (10, 4, 6, 9)\n",
    "tuple2 = (5, 2, 3, 3)\n",
    "\n",
    "# Perform AND operation on corresponding elements of the tuples\n",
    "and_tuple = tuple(x & y for x, y in zip(tuple1, tuple2))\n",
    "\n",
    "# Print the original tuples and the result of the AND operation\n",
    "print(\"Tuple 1:\", tuple1)\n",
    "print(\"Tuple 2:\", tuple2)\n",
    "print(\"AND operation Between Tuple:\", and_tuple)"
   ]
  },
  {
   "cell_type": "code",
   "execution_count": 9,
   "id": "79af8ec4",
   "metadata": {},
   "outputs": [
    {
     "name": "stdout",
     "output_type": "stream",
     "text": [
      "Tuple 1: (10, 4, 6, 9)\n",
      "Tuple 2: (5, 2, 3, 3)\n",
      "Elementwise AND Tuple: (0, 0, 2, 1)\n"
     ]
    }
   ],
   "source": [
    "#50. Write a Python program to Elementwise AND in tuples\n",
    "tuple1 = (10, 4, 6, 9)\n",
    "tuple2 = (5, 2, 3, 3)\n",
    "\n",
    "# Perform elementwise AND operation on corresponding elements of the tuples\n",
    "and_tuple = tuple(x & y for x, y in zip(tuple1, tuple2))\n",
    "\n",
    "# Print the original tuples and the result of the elementwise AND operation\n",
    "print(\"Tuple 1:\", tuple1)\n",
    "print(\"Tuple 2:\", tuple2)\n",
    "print(\"Elementwise AND Tuple:\", and_tuple)\n"
   ]
  },
  {
   "cell_type": "code",
   "execution_count": null,
   "id": "f399ccf6",
   "metadata": {},
   "outputs": [],
   "source": []
  }
 ],
 "metadata": {
  "kernelspec": {
   "display_name": "Python 3 (ipykernel)",
   "language": "python",
   "name": "python3"
  },
  "language_info": {
   "codemirror_mode": {
    "name": "ipython",
    "version": 3
   },
   "file_extension": ".py",
   "mimetype": "text/x-python",
   "name": "python",
   "nbconvert_exporter": "python",
   "pygments_lexer": "ipython3",
   "version": "3.11.5"
  }
 },
 "nbformat": 4,
 "nbformat_minor": 5
}
