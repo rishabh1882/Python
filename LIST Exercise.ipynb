{
 "cells": [
  {
   "cell_type": "code",
   "execution_count": null,
   "id": "6dea79b7",
   "metadata": {},
   "outputs": [],
   "source": [
    "# 1. Python program to sum all the items\n"
   ]
  },
  {
   "cell_type": "code",
   "execution_count": 1,
   "id": "b024f6e1",
   "metadata": {},
   "outputs": [
    {
     "name": "stdout",
     "output_type": "stream",
     "text": [
      "Sum of numbers is  156\n"
     ]
    }
   ],
   "source": [
    "a=[23,14,12,44,63]\n",
    "total=sum(a)\n",
    "print(\"Sum of numbers is \",total)"
   ]
  },
  {
   "cell_type": "code",
   "execution_count": 4,
   "id": "fe57fc3c",
   "metadata": {},
   "outputs": [
    {
     "name": "stdout",
     "output_type": "stream",
     "text": [
      "[6, 2, 3, 12]\n"
     ]
    }
   ],
   "source": [
    "# 2. to Multiply all numbers\n",
    "numbers = [6, 2, 3, 12]\n",
    "print(numbers)\n",
    "product=1  # Initialize a variable to store the product, starting with 1\n"
   ]
  },
  {
   "cell_type": "code",
   "execution_count": 5,
   "id": "3d6ff20f",
   "metadata": {},
   "outputs": [
    {
     "name": "stdout",
     "output_type": "stream",
     "text": [
      "product of numbers is  432\n"
     ]
    }
   ],
   "source": [
    "for num in numbers:\n",
    "    product*=num\n",
    "    \n",
    "print(\"product of numbers is \", product)"
   ]
  },
  {
   "cell_type": "code",
   "execution_count": 9,
   "id": "18fd92df",
   "metadata": {},
   "outputs": [],
   "source": [
    "# 3 & 4. Python program to get the largest number and smallest number  from a list\n",
    "s=[12,2354,22,355,24667,566,1099]\n",
    "largest=max(s)\n",
    "smallest=min(s)"
   ]
  },
  {
   "cell_type": "code",
   "execution_count": 10,
   "id": "00bf4fe0",
   "metadata": {},
   "outputs": [
    {
     "name": "stdout",
     "output_type": "stream",
     "text": [
      "Largest number is 24667\n",
      "Smallest number is  12\n"
     ]
    }
   ],
   "source": [
    "print(\"Largest number is\", largest)\n",
    "print(\"Smallest number is \", smallest)"
   ]
  },
  {
   "cell_type": "code",
   "execution_count": 16,
   "id": "72296e87",
   "metadata": {},
   "outputs": [
    {
     "name": "stdout",
     "output_type": "stream",
     "text": [
      "The number of strings where the first and last character are the same is: 4\n"
     ]
    }
   ],
   "source": [
    "#5. Python program to count the number of strings where the string length is 2 or more and the first and last character are same from a given list of string\n",
    "\n",
    "string =['abc', 'hello', 'noon', 'level', 'aba', '1221', '234']\n",
    "count=0\n",
    "for s in string:\n",
    "    if len(s)>=2 and s[0]==s[-1]:\n",
    "        count+=1\n",
    "\n",
    "    \n",
    "    \n",
    "print(\"The number of strings where the first and last character are the same is:\", count)"
   ]
  },
  {
   "cell_type": "code",
   "execution_count": 17,
   "id": "0a52e147",
   "metadata": {},
   "outputs": [],
   "source": [
    "# 6. Program to remove duplicates\n",
    "d=[23,11,11,14,28,23,1,2,1,57,28]\n",
    "unique=[]"
   ]
  },
  {
   "cell_type": "code",
   "execution_count": 27,
   "id": "57a8c4fb",
   "metadata": {},
   "outputs": [
    {
     "name": "stdout",
     "output_type": "stream",
     "text": [
      "List with duplicates removed-  [1, 2, 11, 14, 23, 28, 57]\n"
     ]
    }
   ],
   "source": [
    "for item in d:\n",
    "    if item not in unique:\n",
    "        unique.append(item)\n",
    "print(\"List with duplicates removed- \", unique)\n",
    "unique.sort()\n"
   ]
  },
  {
   "cell_type": "code",
   "execution_count": 32,
   "id": "4ffcf173",
   "metadata": {},
   "outputs": [
    {
     "name": "stdout",
     "output_type": "stream",
     "text": [
      "not empty\n"
     ]
    }
   ],
   "source": [
    "#7. Python program to check a list is empty or not\n",
    "sample=[23,45,24,55,66,98]\n",
    "if len(sample)==0:\n",
    "    print (\"empty\")\n",
    "else:\n",
    "    print(\"not empty\")"
   ]
  },
  {
   "cell_type": "code",
   "execution_count": 33,
   "id": "612fa547",
   "metadata": {},
   "outputs": [
    {
     "name": "stdout",
     "output_type": "stream",
     "text": [
      "[23, 10, 44, 234, 56]\n"
     ]
    }
   ],
   "source": [
    "# 8.Python program to clone or copy a list\n",
    "original=[23,10,44,234,56]\n",
    "new=original.copy()\n",
    "print(new)"
   ]
  },
  {
   "cell_type": "code",
   "execution_count": 42,
   "id": "d67ba5b0",
   "metadata": {},
   "outputs": [
    {
     "name": "stdout",
     "output_type": "stream",
     "text": [
      "Enter a number in single digit- 4\n",
      "n= 4\n",
      "words longer than 4 characters are ['rocket', 'airport', 'plastic', 'cricket', 'dockyard']\n"
     ]
    }
   ],
   "source": [
    "# 9. Python program to find the list of words that are longer than n from a given list of words\n",
    "words= ['fish','rocket','airport','plastic', 'cricket', 'fan', 'dockyard']\n",
    "n=int(input(\"Enter a number in single digit- \"))\n",
    "print(\"n=\",n)\n",
    "long_words=[a for a in words if len(a)>n]\n",
    "print(f\"words longer than {n} characters are {long_words}\")"
   ]
  },
  {
   "cell_type": "code",
   "execution_count": 1,
   "id": "002fcd46",
   "metadata": {},
   "outputs": [
    {
     "name": "stdout",
     "output_type": "stream",
     "text": [
      "enter number of elements for list 1- 3\n",
      "Enter number of elements for list 2- 4\n",
      "Enter member  1: 25\n",
      "Enter member  2: 65\n",
      "Enter member  3: 542\n",
      "Enter member 1: 48\n",
      "Enter member 2: 574\n",
      "Enter member 3: 65\n",
      "Enter member 4: 39\n",
      "[25, 65, 542]\n",
      "[48, 574, 65, 39]\n"
     ]
    }
   ],
   "source": [
    "# 10. Write a Program that get two lists as input and check if they have at least one common member\n",
    "list1=[]\n",
    "list2=[]\n",
    "\n",
    "n1=int(input(\"enter number of elements for list 1- \"))\n",
    "n2=int(input(\"Enter number of elements for list 2- \"))\n",
    "\n",
    "for i in range(n1):\n",
    "    m1=int(input(f\"Enter member  {i+1}: \"))\n",
    "    list1.append(m1)\n",
    "for j in range(n2):\n",
    "    m2= int(input(f\"Enter member {j+1}: \"))\n",
    "    list2.append(m2)\n",
    "    \n",
    "print(list1)\n",
    "print(list2)"
   ]
  },
  {
   "cell_type": "code",
   "execution_count": 2,
   "id": "91e841ba",
   "metadata": {},
   "outputs": [
    {
     "name": "stdout",
     "output_type": "stream",
     "text": [
      "{65, 25, 542}\n",
      "{48, 65, 574, 39}\n"
     ]
    }
   ],
   "source": [
    "set1=set(list1)\n",
    "set2=set(list2)\n",
    "print(set1)\n",
    "print(set2)"
   ]
  },
  {
   "cell_type": "code",
   "execution_count": 6,
   "id": "ab3a5dc5",
   "metadata": {},
   "outputs": [
    {
     "name": "stdout",
     "output_type": "stream",
     "text": [
      " List have atleast one common member- [65]\n"
     ]
    }
   ],
   "source": [
    "if set1.intersection(set2):\n",
    "    print(\" List have atleast one common member-\",list(set1.intersection(set2)))\n",
    "    \n",
    "else:\n",
    "   (\"there are no common members\")"
   ]
  },
  {
   "cell_type": "code",
   "execution_count": null,
   "id": "d6da867e",
   "metadata": {},
   "outputs": [],
   "source": [
    "# 11. Write a Python program to print a specified list after removing the 0th, 4th and 5th elements"
   ]
  },
  {
   "cell_type": "code",
   "execution_count": 2,
   "id": "47e4c352",
   "metadata": {},
   "outputs": [
    {
     "name": "stdout",
     "output_type": "stream",
     "text": [
      "['Cat', 'Dog', 'Elephant', 'Fox', 'Tiger', 'Lion', 'Panda']\n"
     ]
    }
   ],
   "source": [
    "old_list= [\"Cat\", \"Dog\", \"Elephant\", \"Fox\", \"Tiger\", \"Lion\", \"Panda\"]\n",
    "print(old_list)"
   ]
  },
  {
   "cell_type": "code",
   "execution_count": 10,
   "id": "df21e4eb",
   "metadata": {},
   "outputs": [
    {
     "name": "stdout",
     "output_type": "stream",
     "text": [
      "index:0, value:Cat\n",
      "index:1, value:Dog\n",
      "index:2, value:Elephant\n",
      "index:3, value:Fox\n",
      "index:4, value:Tiger\n",
      "index:5, value:Lion\n",
      "index:6, value:Panda\n"
     ]
    }
   ],
   "source": [
    "## first printing the index and value \n",
    "for index,value in enumerate(old_list):\n",
    "    print(f\"index:{index}, value:{value}\")"
   ]
  },
  {
   "cell_type": "code",
   "execution_count": 3,
   "id": "3f14cdf6",
   "metadata": {},
   "outputs": [],
   "source": [
    "new_list=[x for (i,x) in enumerate (old_list) if i not in (0,4,5)]"
   ]
  },
  {
   "cell_type": "code",
   "execution_count": 5,
   "id": "6258be83",
   "metadata": {},
   "outputs": [
    {
     "name": "stdout",
     "output_type": "stream",
     "text": [
      "list after removing 0th, 4th, 5th elements-\n",
      " ['Dog', 'Elephant', 'Fox', 'Panda']\n"
     ]
    }
   ],
   "source": [
    "print(\"list after removing 0th, 4th, 5th elements-\\n\",new_list)"
   ]
  },
  {
   "cell_type": "code",
   "execution_count": 8,
   "id": "13ca03c7",
   "metadata": {},
   "outputs": [
    {
     "name": "stdout",
     "output_type": "stream",
     "text": [
      "Odd numbers are\n",
      " [3, 33, 17, 7]\n"
     ]
    }
   ],
   "source": [
    "# 12. Write a Python program to print the numbers of a specified list after removing even numbers from it\n",
    "numbers=[12,3,54,33,17,10,7]\n",
    "odd_numbers= [num for num in numbers if num %2!= 0]\n",
    "print(\"Odd numbers are\\n\",odd_numbers)"
   ]
  },
  {
   "cell_type": "code",
   "execution_count": 14,
   "id": "99185664",
   "metadata": {},
   "outputs": [],
   "source": [
    "# 13.  Write a Python program to shuffle and print a specified list (shuffle)\n",
    "list_13= [\"Cat\", \"Dog\", \"Elephant\", \"Fox\", \"Tiger\", \"Lion\", \"Panda\"]\n"
   ]
  },
  {
   "cell_type": "code",
   "execution_count": 15,
   "id": "bd31e79b",
   "metadata": {},
   "outputs": [
    {
     "name": "stdout",
     "output_type": "stream",
     "text": [
      "['Cat', 'Dog', 'Elephant', 'Fox', 'Tiger', 'Lion', 'Panda']\n"
     ]
    }
   ],
   "source": [
    "print(list_13)"
   ]
  },
  {
   "cell_type": "code",
   "execution_count": 11,
   "id": "59b856f6",
   "metadata": {},
   "outputs": [],
   "source": [
    "import random"
   ]
  },
  {
   "cell_type": "code",
   "execution_count": 17,
   "id": "865cf5fb",
   "metadata": {},
   "outputs": [],
   "source": [
    "random.shuffle(list_13)"
   ]
  },
  {
   "cell_type": "code",
   "execution_count": 19,
   "id": "28d1459c",
   "metadata": {},
   "outputs": [
    {
     "name": "stdout",
     "output_type": "stream",
     "text": [
      "Shuffled list is\n",
      " ['Panda', 'Lion', 'Cat', 'Fox', 'Tiger', 'Elephant', 'Dog']\n"
     ]
    }
   ],
   "source": [
    "print(\"Shuffled list is\\n\",list_13)"
   ]
  },
  {
   "cell_type": "code",
   "execution_count": null,
   "id": "a77c4a22",
   "metadata": {},
   "outputs": [],
   "source": [
    "# 14. Write a Python program to generate and print a list of first and last 5 elements where the values are square of numbers between 1 and 30\n"
   ]
  },
  {
   "cell_type": "code",
   "execution_count": 22,
   "id": "7bc6caef",
   "metadata": {},
   "outputs": [],
   "source": [
    "square= [x**2 for x in range(1,31)]"
   ]
  },
  {
   "cell_type": "code",
   "execution_count": 23,
   "id": "492536af",
   "metadata": {},
   "outputs": [
    {
     "name": "stdout",
     "output_type": "stream",
     "text": [
      "[1, 4, 9, 16, 25, 36, 49, 64, 81, 100, 121, 144, 169, 196, 225, 256, 289, 324, 361, 400, 441, 484, 529, 576, 625, 676, 729, 784, 841, 900]\n"
     ]
    }
   ],
   "source": [
    "print(square)"
   ]
  },
  {
   "cell_type": "code",
   "execution_count": 25,
   "id": "4ce0eb10",
   "metadata": {},
   "outputs": [
    {
     "name": "stdout",
     "output_type": "stream",
     "text": [
      "First 5 elements [1, 4, 9, 16, 25]\n",
      "Last 5 elements [676, 729, 784, 841, 900]\n"
     ]
    }
   ],
   "source": [
    "first_5= square[:5]\n",
    "last_5= square[-5:]\n",
    "print(\"First 5 elements\", first_5)\n",
    "print(\"Last 5 elements\", last_5)"
   ]
  },
  {
   "cell_type": "code",
   "execution_count": 26,
   "id": "9d6f3923",
   "metadata": {},
   "outputs": [],
   "source": [
    "# 15.  Write a Python program to generate all permutations of a list in Python. (itertools)\n",
    "from itertools import permutations"
   ]
  },
  {
   "cell_type": "code",
   "execution_count": 28,
   "id": "ce69f01a",
   "metadata": {},
   "outputs": [],
   "source": [
    "list_15= [1,2,3]\n",
    "all_permutations=list(permutations(list_15))"
   ]
  },
  {
   "cell_type": "code",
   "execution_count": 29,
   "id": "d3345a72",
   "metadata": {},
   "outputs": [
    {
     "name": "stdout",
     "output_type": "stream",
     "text": [
      "(1, 2, 3)\n",
      "(1, 3, 2)\n",
      "(2, 1, 3)\n",
      "(2, 3, 1)\n",
      "(3, 1, 2)\n",
      "(3, 2, 1)\n"
     ]
    }
   ],
   "source": [
    "for p in all_permutations:\n",
    "    print(p)"
   ]
  },
  {
   "cell_type": "code",
   "execution_count": 30,
   "id": "41ce85c2",
   "metadata": {},
   "outputs": [
    {
     "name": "stdout",
     "output_type": "stream",
     "text": [
      "['T', 'u', 't', 'o', 'r', ' ', 'J', 'o', 'e', 's']\n"
     ]
    }
   ],
   "source": [
    "# 16. Write a Python program to convert a list of characters into a string\n",
    "list_16= ['T','u','t','o','r',' ','J','o','e','s']\n",
    "print(list_16)"
   ]
  },
  {
   "cell_type": "code",
   "execution_count": 31,
   "id": "816b384d",
   "metadata": {},
   "outputs": [
    {
     "name": "stdout",
     "output_type": "stream",
     "text": [
      "Tutor Joes\n"
     ]
    }
   ],
   "source": [
    "string_16= ''.join(list_16)\n",
    "print(string_16)"
   ]
  },
  {
   "cell_type": "code",
   "execution_count": 32,
   "id": "91f28f95",
   "metadata": {},
   "outputs": [],
   "source": [
    "# 17. Write a Python program to find the index of an item in a specified list\n",
    "list_17= [20, 70, 30, 90, 10, 30, 90, 10, 80]\n",
    "item_to_find= 30"
   ]
  },
  {
   "cell_type": "code",
   "execution_count": 33,
   "id": "86f5d0a9",
   "metadata": {},
   "outputs": [],
   "source": [
    "index= list_17.index(item_to_find)"
   ]
  },
  {
   "cell_type": "code",
   "execution_count": 36,
   "id": "db5b47f3",
   "metadata": {},
   "outputs": [
    {
     "name": "stdout",
     "output_type": "stream",
     "text": [
      "Index of specified item is 2\n"
     ]
    }
   ],
   "source": [
    "print(\"Index of specified item is\",index)"
   ]
  },
  {
   "cell_type": "code",
   "execution_count": 37,
   "id": "df62d8db",
   "metadata": {},
   "outputs": [],
   "source": [
    "# 18.  Write a Python program to flatten a shallow list\n",
    "shallow_list= [[20,30,70],[30,90,10], [30,20], [70,90,10,80]]"
   ]
  },
  {
   "cell_type": "code",
   "execution_count": null,
   "id": "78a44b1a",
   "metadata": {},
   "outputs": [],
   "source": [
    "## Flatten: To transform this nested structure into a single-level list, meaning a list with no sublists, where all elements are on the same level."
   ]
  },
  {
   "cell_type": "code",
   "execution_count": 40,
   "id": "513ed910",
   "metadata": {},
   "outputs": [],
   "source": [
    "flatten_list=[item for sublist in shallow_list for item in sublist]"
   ]
  },
  {
   "cell_type": "code",
   "execution_count": 41,
   "id": "7e5177cd",
   "metadata": {},
   "outputs": [
    {
     "name": "stdout",
     "output_type": "stream",
     "text": [
      "[20, 30, 70, 30, 90, 10, 30, 20, 70, 90, 10, 80]\n"
     ]
    }
   ],
   "source": [
    "print(flatten_list)"
   ]
  },
  {
   "cell_type": "code",
   "execution_count": 1,
   "id": "e514d7a1",
   "metadata": {},
   "outputs": [],
   "source": [
    "#19. Write a Python program to add a list to the second list\n",
    "list_1= [10, 20, 30, 40]\n",
    "list_2= [\"Cat\", \"Dog\", \"Lion\", \"Panda\"]"
   ]
  },
  {
   "cell_type": "code",
   "execution_count": 3,
   "id": "2c3dfe6a",
   "metadata": {},
   "outputs": [
    {
     "name": "stdout",
     "output_type": "stream",
     "text": [
      "combined list\n",
      " [10, 20, 30, 40, 'Cat', 'Dog', 'Lion', 'Panda']\n"
     ]
    }
   ],
   "source": [
    "add= list_1+list_2\n",
    "print(\"combined list\\n\",add)"
   ]
  },
  {
   "cell_type": "code",
   "execution_count": 7,
   "id": "23b30a97",
   "metadata": {},
   "outputs": [],
   "source": [
    " # 20. Write a Python program to select an item randomly from a list Using random.choice()\n",
    "list_20=  [\"Cat\", \"Dog\", \"Elephant\", \"Fox\", \"Tiger\", \"Lion\", \"Panda\"]\n"
   ]
  },
  {
   "cell_type": "code",
   "execution_count": 8,
   "id": "697a9e3c",
   "metadata": {},
   "outputs": [
    {
     "name": "stdout",
     "output_type": "stream",
     "text": [
      "Cat\n"
     ]
    }
   ],
   "source": [
    "import random\n",
    "random_choice= random.choice(list_20)\n",
    "print(random_choice)"
   ]
  },
  {
   "cell_type": "code",
   "execution_count": 9,
   "id": "4167beb8",
   "metadata": {},
   "outputs": [
    {
     "name": "stdout",
     "output_type": "stream",
     "text": [
      "Lists are circularly identical\n"
     ]
    }
   ],
   "source": [
    "#21. Write a python program to check whether two lists are circularly identical\n",
    "list_1=[8, 8, 12, 12, 8]\n",
    "list_2= [8, 8, 8, 12, 12]\n",
    "def circularly_identical(list1, list2):\n",
    "    # Check if both lists have the same length\n",
    "    if len(list1) != len(list2):\n",
    "        return False\n",
    "\n",
    "    # Concatenate list_1 with itself\n",
    "    circular_list = list1 + list1\n",
    "\n",
    "    # Check if list_2 is a sublist of circular_list\n",
    "    if list2 in [circular_list[i:i + len(list2)] for i in range(len(list1))]:\n",
    "        return True\n",
    "    else:\n",
    "        return False\n",
    "\n",
    "\n",
    "if circularly_identical(list_1, list_2):\n",
    "    print(\"Lists are circularly identical\")\n",
    "else:\n",
    "    print(\"Lists are not circularly identical\")\n",
    "\n"
   ]
  },
  {
   "cell_type": "code",
   "execution_count": 10,
   "id": "b24ebd3f",
   "metadata": {},
   "outputs": [
    {
     "name": "stdout",
     "output_type": "stream",
     "text": [
      "[2, 4, 56, 78, 4, 34, 5, 8, 9]\n"
     ]
    }
   ],
   "source": [
    "#22. . Write a Python program to find the second smallest number in a list\n",
    "list_22= [2,4,56,78,4,34,5,8,9]\n",
    "print(list_22)"
   ]
  },
  {
   "cell_type": "code",
   "execution_count": 11,
   "id": "5cc2880b",
   "metadata": {},
   "outputs": [],
   "source": [
    "smallest = float('inf')\n",
    "second_smallest = float('inf')\n",
    "for num in list_22:\n",
    "    if num < smallest:\n",
    "        second_smallest = smallest\n",
    "        smallest = num\n",
    "    elif num < second_smallest and num != smallest:\n",
    "        second_smallest = num\n",
    "\n"
   ]
  },
  {
   "cell_type": "code",
   "execution_count": 12,
   "id": "ed659fcd",
   "metadata": {},
   "outputs": [
    {
     "name": "stdout",
     "output_type": "stream",
     "text": [
      "Second smallest number 4\n"
     ]
    }
   ],
   "source": [
    "print(\"Second smallest number\", second_smallest)"
   ]
  },
  {
   "cell_type": "code",
   "execution_count": 16,
   "id": "0b9f9ea0",
   "metadata": {},
   "outputs": [
    {
     "name": "stdout",
     "output_type": "stream",
     "text": [
      "[82, 4, 56, 78, 4, 34, 5, 100, 9]\n"
     ]
    }
   ],
   "source": [
    "# 23. Write a Python program to find the second largest number in a list\n",
    "list_23= [82,4,56,78,4,34,5,100,9]\n",
    "print(list_23)"
   ]
  },
  {
   "cell_type": "code",
   "execution_count": 17,
   "id": "5e67b95a",
   "metadata": {},
   "outputs": [
    {
     "name": "stdout",
     "output_type": "stream",
     "text": [
      "Second largest number: 82\n"
     ]
    }
   ],
   "source": [
    "\n",
    "largest = float('-inf')\n",
    "second_largest = float('-inf')\n",
    "\n",
    "for num in list_23:\n",
    "    if num > largest:\n",
    "        second_largest = largest\n",
    "        largest = num\n",
    "    elif num > second_largest and num != largest:\n",
    "        second_largest = num\n",
    "\n",
    "print(\"Second largest number:\", second_largest)\n"
   ]
  },
  {
   "cell_type": "code",
   "execution_count": 18,
   "id": "e8f05732",
   "metadata": {},
   "outputs": [
    {
     "name": "stdout",
     "output_type": "stream",
     "text": [
      "[82, 4, 10, 56, 78, 4, 34, 5, 10, 9]\n"
     ]
    }
   ],
   "source": [
    "#24. Write a Python program to get unique values from a list\n",
    "list_24= [82, 4, 10, 56, 78, 4, 34, 5, 10, 9]\n",
    "print(list_24)"
   ]
  },
  {
   "cell_type": "code",
   "execution_count": 19,
   "id": "9ea0cf67",
   "metadata": {},
   "outputs": [
    {
     "name": "stdout",
     "output_type": "stream",
     "text": [
      "Unique values as set: {34, 4, 5, 9, 10, 78, 82, 56}\n",
      "Unique values as list: [34, 4, 5, 9, 10, 78, 82, 56]\n"
     ]
    }
   ],
   "source": [
    "# We need Get unique values using set\n",
    "unique_values_set = set(list_24)\n",
    "print(\"Unique values as set:\", unique_values_set)\n",
    "\n",
    "# Convert the set back to a list\n",
    "unique_values_list = list(unique_values_set)\n",
    "print(\"Unique values as list:\", unique_values_list)\n"
   ]
  },
  {
   "cell_type": "code",
   "execution_count": 20,
   "id": "7fd1cf1c",
   "metadata": {},
   "outputs": [
    {
     "name": "stdout",
     "output_type": "stream",
     "text": [
      "[10, 30, 50, 10, 20, 60, 20, 60, 40, 40, 50, 50, 30]\n"
     ]
    }
   ],
   "source": [
    "#25. . Write a Python program to get the frequency of the elements in a list.\n",
    "list_25=[10, 30, 50, 10, 20, 60, 20, 60, 40, 40, 50, 50, 30]\n",
    "print(list_25)"
   ]
  },
  {
   "cell_type": "code",
   "execution_count": 21,
   "id": "49e5eb1e",
   "metadata": {},
   "outputs": [
    {
     "name": "stdout",
     "output_type": "stream",
     "text": [
      "Counter({50: 3, 10: 2, 30: 2, 20: 2, 60: 2, 40: 2})\n"
     ]
    }
   ],
   "source": [
    "from collections import Counter\n",
    "\n",
    "elements=Counter(list_25)\n",
    "print(elements)"
   ]
  },
  {
   "cell_type": "code",
   "execution_count": 22,
   "id": "39cc1a16",
   "metadata": {},
   "outputs": [],
   "source": [
    "# 26.  Create a list by concatenating a given list which range goes from 1 to n\n",
    "given_list = ['T', 'J']\n",
    "n=10"
   ]
  },
  {
   "cell_type": "code",
   "execution_count": 23,
   "id": "f9c12d9f",
   "metadata": {},
   "outputs": [
    {
     "name": "stdout",
     "output_type": "stream",
     "text": [
      "N = 10\n",
      "['T1', 'J1', 'T2', 'J2', 'T3', 'J3', 'T4', 'J4', 'T5', 'J5', 'T6', 'J6', 'T7', 'J7', 'T8', 'J8', 'T9', 'J9', 'T10', 'J10']\n"
     ]
    }
   ],
   "source": [
    "# Create the concatenated list using a list comprehension\n",
    "result_list = [item + str(i) for i in range(1, n + 1) for item in given_list]\n",
    "\n",
    "# Print the result\n",
    "print(\"N =\", n)\n",
    "print(result_list)"
   ]
  },
  {
   "cell_type": "code",
   "execution_count": 24,
   "id": "3276a319",
   "metadata": {},
   "outputs": [],
   "source": [
    "# 27. Write a Python program to get variable unique identification number or string\n",
    "\n",
    "x = 30\n",
    "s = \"Tutor Joes\"\n"
   ]
  },
  {
   "cell_type": "code",
   "execution_count": 29,
   "id": "554a3a1a",
   "metadata": {},
   "outputs": [],
   "source": [
    "id_x=id(x)\n",
    "id_s=id(s)"
   ]
  },
  {
   "cell_type": "code",
   "execution_count": 32,
   "id": "f6767198",
   "metadata": {},
   "outputs": [
    {
     "name": "stdout",
     "output_type": "stream",
     "text": [
      "Unique id of x 140733739734728\n",
      "unique id of s 2474089443888\n"
     ]
    }
   ],
   "source": [
    "print(f\"Unique id of x {id_x}\")\n",
    "print(f\"unique id of s {id_s}\")"
   ]
  },
  {
   "cell_type": "code",
   "execution_count": 33,
   "id": "162c6acd",
   "metadata": {},
   "outputs": [],
   "source": [
    "# 28. Write a Python program to find common items from two lists\n",
    "list_a=[23,45,67,78,89,34]\n",
    "list_b= [34,89,55,56,39,67]\n",
    "common_item=list(set(list_a) & set(list_b))"
   ]
  },
  {
   "cell_type": "code",
   "execution_count": 35,
   "id": "5418674b",
   "metadata": {},
   "outputs": [
    {
     "name": "stdout",
     "output_type": "stream",
     "text": [
      "[89, 34, 67]\n"
     ]
    }
   ],
   "source": [
    "print(common_item)"
   ]
  },
  {
   "cell_type": "code",
   "execution_count": 36,
   "id": "a71c97fb",
   "metadata": {},
   "outputs": [
    {
     "name": "stdout",
     "output_type": "stream",
     "text": [
      "['cat', 'dog', 'cow', 'tiger', 'lion', 'Fox', 'Shark', 'Snake', 'turtle', 'mouse', 'monkey', 'bear']\n"
     ]
    }
   ],
   "source": [
    "# 29. Write a Python program to split a list based on first character of word\n",
    "list_29= [\"cat\", \"dog\", \"cow\", \"tiger\", \"lion\", \"Fox\", \"Shark\", \"Snake\", \"turtle\", \"mouse\", \"monkey\", \n",
    "\"bear\"]\n",
    "print(list_29)"
   ]
  },
  {
   "cell_type": "code",
   "execution_count": 37,
   "id": "99cedb71",
   "metadata": {},
   "outputs": [],
   "source": [
    "# creating an empty dictionary\n",
    "word_dict={}"
   ]
  },
  {
   "cell_type": "code",
   "execution_count": 45,
   "id": "7c00b027",
   "metadata": {},
   "outputs": [],
   "source": [
    "for word in list_29:\n",
    "    first_char= word[0].upper()\n",
    "    if first_char not in word_dict:\n",
    "        word_dict[first_char]=[word]\n",
    "    else:\n",
    "        word_dict[first_char].append(word)\n"
   ]
  },
  {
   "cell_type": "code",
   "execution_count": 41,
   "id": "b2c38a1d",
   "metadata": {
    "scrolled": true
   },
   "outputs": [
    {
     "name": "stdout",
     "output_type": "stream",
     "text": [
      "B\n",
      "bear\n",
      "C\n",
      "cat\n",
      "cow\n",
      "D\n",
      "dog\n",
      "F\n",
      "Fox\n",
      "L\n",
      "lion\n",
      "M\n",
      "mouse\n",
      "monkey\n",
      "S\n",
      "Shark\n",
      "Snake\n",
      "T\n",
      "tiger\n",
      "turtle\n"
     ]
    }
   ],
   "source": [
    "for key, words in sorted(word_dict.items()):\n",
    "    print(key)\n",
    "    for word in words:\n",
    "        print(word)"
   ]
  },
  {
   "cell_type": "code",
   "execution_count": 52,
   "id": "0a23b0d8",
   "metadata": {},
   "outputs": [],
   "source": [
    "# 30.Write a Python program to select the odd number of a list\n",
    "list_30= [1,2,4,3,6,7,5,8,9,7,8,9,10]\n",
    "odd_numbers=[num for num in list_30 if num%2!=0]"
   ]
  },
  {
   "cell_type": "code",
   "execution_count": 53,
   "id": "4280abff",
   "metadata": {},
   "outputs": [
    {
     "name": "stdout",
     "output_type": "stream",
     "text": [
      "[1, 3, 7, 5, 9, 7, 9]\n"
     ]
    }
   ],
   "source": [
    "print(odd_numbers)"
   ]
  },
  {
   "cell_type": "code",
   "execution_count": 54,
   "id": "8e558f8e",
   "metadata": {},
   "outputs": [],
   "source": [
    "#31. Write a Python Program to count unique values inside a list\n",
    "list_31= [10, 20, 30, 50, 80, 70, 70, 80, 10]\n",
    "set_31=set (list_31)"
   ]
  },
  {
   "cell_type": "code",
   "execution_count": 56,
   "id": "0b30f430",
   "metadata": {},
   "outputs": [
    {
     "name": "stdout",
     "output_type": "stream",
     "text": [
      "unique values are 6\n"
     ]
    }
   ],
   "source": [
    "list_count=len(set_31)\n",
    "print(\"unique values are\",list_count)"
   ]
  },
  {
   "cell_type": "code",
   "execution_count": 60,
   "id": "335151bd",
   "metadata": {},
   "outputs": [],
   "source": [
    "# 32. Write a Python Program to List product excluding duplicates\n",
    "list_32= [2, 1, 2, 4, 6, 4, 3, 2, 1]\n",
    "import math"
   ]
  },
  {
   "cell_type": "code",
   "execution_count": 61,
   "id": "de27b78a",
   "metadata": {},
   "outputs": [
    {
     "data": {
      "text/plain": [
       "{1, 2, 3, 4, 6}"
      ]
     },
     "execution_count": 61,
     "metadata": {},
     "output_type": "execute_result"
    }
   ],
   "source": [
    "set_32= set(list_32)\n",
    "set_32"
   ]
  },
  {
   "cell_type": "code",
   "execution_count": 63,
   "id": "3b20f59e",
   "metadata": {},
   "outputs": [
    {
     "name": "stdout",
     "output_type": "stream",
     "text": [
      "product of unique values= 144\n"
     ]
    }
   ],
   "source": [
    "prod_32= math.prod(set_32)\n",
    "print(\"product of unique values=\",prod_32)"
   ]
  },
  {
   "cell_type": "code",
   "execution_count": 64,
   "id": "1becdb46",
   "metadata": {},
   "outputs": [
    {
     "name": "stdout",
     "output_type": "stream",
     "text": [
      "[4, 6, 4, 3, 3, 4, 3, 7, 8, 8]\n"
     ]
    }
   ],
   "source": [
    "#33. Write a Python Program to Extract elements with Frequency greater than K\n",
    "list_33= [4, 6, 4, 3, 3, 4, 3, 7, 8, 8]\n",
    "print(list_33)"
   ]
  },
  {
   "cell_type": "code",
   "execution_count": 66,
   "id": "1a635d21",
   "metadata": {},
   "outputs": [],
   "source": [
    "K=2"
   ]
  },
  {
   "cell_type": "code",
   "execution_count": 74,
   "id": "6fb00d99",
   "metadata": {},
   "outputs": [],
   "source": [
    "res=[]"
   ]
  },
  {
   "cell_type": "code",
   "execution_count": 76,
   "id": "11ddd69a",
   "metadata": {},
   "outputs": [
    {
     "name": "stdout",
     "output_type": "stream",
     "text": [
      "required elements with frequency greater than K are: [4, 3]\n"
     ]
    }
   ],
   "source": [
    "for i in list_33:\n",
    "    freq=list_33.count(i)\n",
    "    if freq>K and i not in res:\n",
    "        res.append(i)\n",
    "print(\"required elements with frequency greater than K are:\",res)"
   ]
  },
  {
   "cell_type": "code",
   "execution_count": 77,
   "id": "1847f2c6",
   "metadata": {},
   "outputs": [
    {
     "data": {
      "text/plain": [
       "[3, 6, 4, 8, 9, 12, 15]"
      ]
     },
     "execution_count": 77,
     "metadata": {},
     "output_type": "execute_result"
    }
   ],
   "source": [
    "#34. Write a Python Program to Test if List contains elements in Range\n",
    "list_34= [3,6,4,8,9,12,15]\n",
    "list_34"
   ]
  },
  {
   "cell_type": "code",
   "execution_count": 83,
   "id": "6cc1cbb6",
   "metadata": {},
   "outputs": [
    {
     "name": "stdout",
     "output_type": "stream",
     "text": [
      "The list contains elements within the range 2 to 20\n"
     ]
    }
   ],
   "source": [
    "start_range=2\n",
    "end_range=20\n",
    "contains_range = all(start_range <= element <= end_range for element in list_34)\n",
    "if contains_range:\n",
    "    print(f\"The list contains elements within the range {start_range} to {end_range}\")\n",
    "else:\n",
    "    print(f\"The list does not contain elements within the range {start_range} to {end_range}\")"
   ]
  },
  {
   "cell_type": "code",
   "execution_count": 91,
   "id": "9e7db8c0",
   "metadata": {},
   "outputs": [
    {
     "name": "stdout",
     "output_type": "stream",
     "text": [
      "18\n",
      "9\n"
     ]
    }
   ],
   "source": [
    "#35. Write a Python program to check if the list contains three consecutive common numbers in Python\n",
    "numbers = [18, 18, 18, 6, 3, 4, 9, 9, 9]\n",
    "\n",
    "size = len(numbers)\n",
    "\n",
    "# looping till length - 2\n",
    "for i in range(size - 2):\n",
    "    if numbers[i] == numbers[i + 1] and numbers[i + 1] == numbers[i + 2]:\n",
    "        print(numbers[i])\n"
   ]
  },
  {
   "cell_type": "code",
   "execution_count": null,
   "id": "5b3a7566",
   "metadata": {},
   "outputs": [],
   "source": [
    "#36. Write a Python program to find the Strongest Neighbour"
   ]
  },
  {
   "cell_type": "code",
   "execution_count": 1,
   "id": "2d5dd373",
   "metadata": {},
   "outputs": [],
   "source": [
    "list_36= [10,20,30,20,30,400]"
   ]
  },
  {
   "cell_type": "code",
   "execution_count": 2,
   "id": "1c0af81f",
   "metadata": {},
   "outputs": [
    {
     "name": "stdout",
     "output_type": "stream",
     "text": [
      "The strongest neighbors are: [20, 30, 30, 30, 400]\n"
     ]
    }
   ],
   "source": [
    "strongest = [max(list_36[i], list_36[i + 1]) for i in range(len(list_36 ) - 1)]\n",
    "print(\"The strongest neighbors are:\", strongest)"
   ]
  },
  {
   "cell_type": "code",
   "execution_count": 3,
   "id": "2abe9453",
   "metadata": {},
   "outputs": [],
   "source": [
    "# 37. Write a Python Program to print all Possible Combinations from the three Digits\n",
    "digits= [1, 2, 3]"
   ]
  },
  {
   "cell_type": "code",
   "execution_count": 4,
   "id": "0610f8ac",
   "metadata": {},
   "outputs": [],
   "source": [
    "from itertools import permutations"
   ]
  },
  {
   "cell_type": "code",
   "execution_count": 5,
   "id": "1cccd376",
   "metadata": {},
   "outputs": [
    {
     "name": "stdout",
     "output_type": "stream",
     "text": [
      "[(1, 2, 3), (1, 3, 2), (2, 1, 3), (2, 3, 1), (3, 1, 2), (3, 2, 1)]\n"
     ]
    }
   ],
   "source": [
    "permutations_list=list(permutations(digits))\n",
    "print(permutations_list)"
   ]
  },
  {
   "cell_type": "code",
   "execution_count": 6,
   "id": "70bc00c2",
   "metadata": {},
   "outputs": [
    {
     "name": "stdout",
     "output_type": "stream",
     "text": [
      "(1, 2, 3)\n",
      "(1, 3, 2)\n",
      "(2, 1, 3)\n",
      "(2, 3, 1)\n",
      "(3, 1, 2)\n",
      "(3, 2, 1)\n"
     ]
    }
   ],
   "source": [
    "for perm in permutations_list:\n",
    "    print(perm)"
   ]
  },
  {
   "cell_type": "code",
   "execution_count": 7,
   "id": "2fae4121",
   "metadata": {},
   "outputs": [],
   "source": [
    "# 38. Write a Python program to find all the Combinations in the list with the given condition\n",
    "from itertools import combinations"
   ]
  },
  {
   "cell_type": "code",
   "execution_count": 13,
   "id": "ed03410e",
   "metadata": {},
   "outputs": [],
   "source": [
    "list_38=['Tutor Joes','Software', 'Computer', 'Solution', 'Education']"
   ]
  },
  {
   "cell_type": "code",
   "execution_count": 14,
   "id": "d666e2d4",
   "metadata": {},
   "outputs": [],
   "source": [
    "combinations_list=list(combinations(list_38,3))"
   ]
  },
  {
   "cell_type": "code",
   "execution_count": 15,
   "id": "66ff77af",
   "metadata": {},
   "outputs": [
    {
     "name": "stdout",
     "output_type": "stream",
     "text": [
      "[('Tutor Joes', 'Software', 'Computer'), ('Tutor Joes', 'Software', 'Solution'), ('Tutor Joes', 'Software', 'Education'), ('Tutor Joes', 'Computer', 'Solution'), ('Tutor Joes', 'Computer', 'Education'), ('Tutor Joes', 'Solution', 'Education'), ('Software', 'Computer', 'Solution'), ('Software', 'Computer', 'Education'), ('Software', 'Solution', 'Education'), ('Computer', 'Solution', 'Education')]\n"
     ]
    }
   ],
   "source": [
    "print(combinations_list)"
   ]
  },
  {
   "cell_type": "code",
   "execution_count": 16,
   "id": "cbac0149",
   "metadata": {},
   "outputs": [],
   "source": [
    "#39. Write a Python program to get all unique combinations of two Lists\n",
    "from itertools import product"
   ]
  },
  {
   "cell_type": "code",
   "execution_count": 17,
   "id": "3dd2bdec",
   "metadata": {},
   "outputs": [],
   "source": [
    "list_1= ['A','B','C']\n",
    "list_2=[1,2,3]\n"
   ]
  },
  {
   "cell_type": "code",
   "execution_count": 19,
   "id": "bd57d806",
   "metadata": {},
   "outputs": [],
   "source": [
    "combine_list=list(product(list_1, list_2))"
   ]
  },
  {
   "cell_type": "code",
   "execution_count": 20,
   "id": "b4151db9",
   "metadata": {},
   "outputs": [
    {
     "name": "stdout",
     "output_type": "stream",
     "text": [
      "[('A', 1), ('A', 2), ('A', 3), ('B', 1), ('B', 2), ('B', 3), ('C', 1), ('C', 2), ('C', 3)]\n"
     ]
    }
   ],
   "source": [
    "print(combine_list)"
   ]
  },
  {
   "cell_type": "code",
   "execution_count": 21,
   "id": "3a5124ec",
   "metadata": {},
   "outputs": [],
   "source": [
    "#40. Write a Python program to remove all the occurrences of an element from a list\n",
    "list_40= [1, 3, 4, 6, 5, 1]\n",
    "element_to_remove=1\n",
    "filtered_list=[num for num in list_40 if num !=element_to_remove]"
   ]
  },
  {
   "cell_type": "code",
   "execution_count": 22,
   "id": "13f3173d",
   "metadata": {},
   "outputs": [
    {
     "name": "stdout",
     "output_type": "stream",
     "text": [
      "[3, 4, 6, 5]\n"
     ]
    }
   ],
   "source": [
    "print(filtered_list)"
   ]
  },
  {
   "cell_type": "code",
   "execution_count": 25,
   "id": "e18d8c0e",
   "metadata": {},
   "outputs": [
    {
     "name": "stdout",
     "output_type": "stream",
     "text": [
      "The records after removal :  [(4, 5, 6, 3), (1, 3, 5, 6)]\n"
     ]
    }
   ],
   "source": [
    "#41. Write a Python Program to Remove Consecutive K element records\n",
    "test_list = [(4, 5, 6, 3), (5, 6, 6, 9), (1, 3, 5, 6), (6, 6, 7, 8)]\n",
    "K = 6\n",
    "\n",
    "temp_list = []\n",
    "for item in test_list:\n",
    "    skip = False\n",
    "    for i in range(len(item)-1):\n",
    "        if item[i] == K and item[i+1] == K:\n",
    "            skip = True\n",
    "            break\n",
    "    if not skip:\n",
    "        temp_list.append(item)\n",
    "res=temp_list\n",
    "\n",
    "print(\"The records after removal : \", res)\n"
   ]
  },
  {
   "cell_type": "code",
   "execution_count": 26,
   "id": "1afc7ca5",
   "metadata": {},
   "outputs": [],
   "source": [
    "#42.  Write a Python Program to Replace index elements with elements in Other List\n",
    "list1 = ['Tutor Joes', 'Computer', 'Education']\n",
    "list2 = [2, 1, 0, 1, 0, 2, 2, 0, 1, 0, 1, 2]\n"
   ]
  },
  {
   "cell_type": "code",
   "execution_count": 27,
   "id": "7475c460",
   "metadata": {},
   "outputs": [
    {
     "name": "stdout",
     "output_type": "stream",
     "text": [
      "['Education', 'Computer', 'Tutor Joes', 'Computer', 'Tutor Joes', 'Education', 'Education', 'Tutor Joes', 'Computer', 'Tutor Joes', 'Computer', 'Education']\n"
     ]
    }
   ],
   "source": [
    "# Replace index elements from list1 with elements from list2\n",
    "result_list=[list1[i] for i in list2]\n",
    "print(result_list)"
   ]
  },
  {
   "cell_type": "code",
   "execution_count": 28,
   "id": "d7ff1e37",
   "metadata": {},
   "outputs": [],
   "source": [
    "# 43. Write a Python Program to Retain records with N occurrences of K\n",
    "list_43= [(4, 5, 6, 5, 4), (4, 5, 3), (5, 5, 2), (3, 4, 9)]\n",
    "K=5\n",
    "N=2"
   ]
  },
  {
   "cell_type": "code",
   "execution_count": 29,
   "id": "2f731645",
   "metadata": {},
   "outputs": [],
   "source": [
    "# Count the occurrences of K in each tuple\n",
    "counted_tuples = [tup for tup in list_43 if tup.count(K) == N]"
   ]
  },
  {
   "cell_type": "code",
   "execution_count": 30,
   "id": "2032976b",
   "metadata": {},
   "outputs": [
    {
     "name": "stdout",
     "output_type": "stream",
     "text": [
      "[(4, 5, 6, 5, 4), (5, 5, 2)]\n"
     ]
    }
   ],
   "source": [
    "print(counted_tuples)"
   ]
  },
  {
   "cell_type": "code",
   "execution_count": 31,
   "id": "2177cec3",
   "metadata": {},
   "outputs": [
    {
     "name": "stdout",
     "output_type": "stream",
     "text": [
      "['Tutor', 'Computer', 'joes', 'Education']\n"
     ]
    }
   ],
   "source": [
    "#44.Write a Python Program to Swap elements in String list\n",
    "list_44=['Tutor', 'joes', 'Computer', 'Education']\n",
    "list_44[1],list_44[2]=list_44[2],list_44[1]\n",
    "print(list_44)"
   ]
  },
  {
   "cell_type": "code",
   "execution_count": 38,
   "id": "3907ee03",
   "metadata": {},
   "outputs": [
    {
     "name": "stdout",
     "output_type": "stream",
     "text": [
      "Original list = ['Tutor', 'joes', 'Computer', 'Education']\n",
      "Reversed list = ['Education', 'Computer', 'joes', 'Tutor']\n",
      "Reversed list with reversed alphabets ['rotuT', 'seoj', 'retupmoC', 'noitacudE']\n"
     ]
    }
   ],
   "source": [
    "#45. Write a Python program to reverse All Strings in String List\n",
    "\n",
    "Original_list = ['Tutor', 'joes', 'Computer', 'Education']\n",
    "reversed_list=Original_list[::-1]\n",
    "# Print the reversed list\n",
    "print(\"Original list =\", Original_list)\n",
    "print(\"Reversed list =\", reversed_list)\n",
    "reversed_list2 = [string[::-1] for string in Original_list]\n",
    "print(\"Reversed list with reversed alphabets\",reversed_list2)"
   ]
  },
  {
   "cell_type": "code",
   "execution_count": 41,
   "id": "cf5d33b9",
   "metadata": {},
   "outputs": [
    {
     "name": "stdout",
     "output_type": "stream",
     "text": [
      "The character position of the 2th word 'joes' is: 6\n"
     ]
    }
   ],
   "source": [
    "#46.Write a Python program to find the character position of Kth word from a list of strings\n",
    "list_46= ['Tutor', 'joes', 'Computer', 'Education']\n",
    "\n",
    "k = 2\n",
    "\n",
    "# Finding character position of the Kth word\n",
    "words = ' '.join(list_46).split()\n",
    "if k <= len(words):\n",
    "    kth_word = words[k - 1]  \n",
    "    start_position = ' '.join(list_46).index(kth_word)  # Finding the starting position of the word\n",
    "    print(f\"The character position of the {k}th word '{kth_word}' is: {start_position}\")\n",
    "else:\n",
    "    print(f\"There is no {k}th word in the list of strings.\")\n"
   ]
  },
  {
   "cell_type": "code",
   "execution_count": 46,
   "id": "9b71b373",
   "metadata": {},
   "outputs": [
    {
     "name": "stdout",
     "output_type": "stream",
     "text": [
      "The original list is :  ['TjC', 'TjCpp', 'TjPython', 'Java']\n",
      "Strings count with matching frequency :  3\n"
     ]
    }
   ],
   "source": [
    "#47. . Write a Python Program to Prefix frequency in string List\n",
    "\n",
    "list_47= ['TjC', 'TjCpp', 'TjPython', 'Java']\n",
    "\n",
    "\n",
    "# printing original list\n",
    "print(\"The original list is : \", list_47)\n",
    "\n",
    "# Initializing substring\n",
    "prefix= 'Tj'\n",
    "\n",
    "# Prefix frequency in List\n",
    "# using loop + startswith()\n",
    "i= 0\n",
    "for ele in list_47:\n",
    "    if ele.startswith(prefix):\n",
    "        i=i+1\n",
    "\n",
    "# printing result\n",
    "print(\"Strings count with matching frequency : \", i)\n"
   ]
  },
  {
   "cell_type": "code",
   "execution_count": 47,
   "id": "a6e39eac",
   "metadata": {},
   "outputs": [],
   "source": [
    "#48. Write a Python Program to Split Strings on Prefix Occurrence\n",
    "list_48= ['TjC', 'TjCpp', 'TjPython', 'Java', 'tj']"
   ]
  },
  {
   "cell_type": "code",
   "execution_count": 49,
   "id": "d7f80fa3",
   "metadata": {},
   "outputs": [],
   "source": [
    "prefix='Tj'"
   ]
  },
  {
   "cell_type": "code",
   "execution_count": 52,
   "id": "e8ab5f88",
   "metadata": {},
   "outputs": [
    {
     "name": "stdout",
     "output_type": "stream",
     "text": [
      "Strings with prefix 'Tj':\n",
      "['C', 'Cpp', 'Python']\n",
      "\n",
      "Strings without prefix 'Tj':\n",
      "['Java', 'tj']\n"
     ]
    }
   ],
   "source": [
    "prefixed = []\n",
    "non_prefixed = []\n",
    "\n",
    "for string in list_48:\n",
    "    if string.startswith(prefix):\n",
    "        prefixed.append(string.split(prefix, 1)[-1])\n",
    "    else:\n",
    "        non_prefixed.append(string)\n",
    "\n",
    "print(f\"Strings with prefix '{prefix}':\")\n",
    "print(prefixed)\n",
    "\n",
    "print(f\"\\nStrings without prefix '{prefix}':\")\n",
    "print(non_prefixed)\n"
   ]
  },
  {
   "cell_type": "code",
   "execution_count": 53,
   "id": "64885c73",
   "metadata": {},
   "outputs": [
    {
     "name": "stdout",
     "output_type": "stream",
     "text": [
      "List after replacement: ['a', '@', '@', 'a', '@', '@']\n"
     ]
    }
   ],
   "source": [
    "#49. Write a Python program to Replace all Characters of a List Except the given character\n",
    "list_49= ['a', 'b', 'c', 'a', 'd', 'e']\n",
    "char_to_keep = 'a'\n",
    "replacement_char = '@'\n",
    "\n",
    "result = []\n",
    "\n",
    "for char in list_49:\n",
    "    if char == char_to_keep:\n",
    "        result.append(char)  # Keeping the character unchanged\n",
    "    else:\n",
    "        result.append(replacement_char)  # Replacing characters that don't match\n",
    "\n",
    "print(\"List after replacement:\", result)\n"
   ]
  },
  {
   "cell_type": "code",
   "execution_count": 61,
   "id": "baa243aa",
   "metadata": {},
   "outputs": [
    {
     "name": "stdout",
     "output_type": "stream",
     "text": [
      "The original list : ['TutorJoes', 'ComputerEducations']\n",
      "The space added list of strings :  ['Tutor Joes', 'Computer Educations']\n"
     ]
    }
   ],
   "source": [
    "#50. Write a Python Program to Add Space between Potential Words\n",
    "list_50= ['TutorJoes', 'ComputerEducations']\n",
    "\n",
    "import re\n",
    "print(\"The original list : \" + str(list_50))\n",
    "\n",
    "# using regex() to perform task \n",
    "res = [re.sub(r\"(\\w)([A-Z])\", r\"\\1 \\2\", ele) for ele in list_50]\n",
    "\n",
    "print(\"The space added list of strings : \",res)\n"
   ]
  },
  {
   "cell_type": "code",
   "execution_count": null,
   "id": "b2cb53cc",
   "metadata": {},
   "outputs": [],
   "source": []
  }
 ],
 "metadata": {
  "kernelspec": {
   "display_name": "Python 3 (ipykernel)",
   "language": "python",
   "name": "python3"
  },
  "language_info": {
   "codemirror_mode": {
    "name": "ipython",
    "version": 3
   },
   "file_extension": ".py",
   "mimetype": "text/x-python",
   "name": "python",
   "nbconvert_exporter": "python",
   "pygments_lexer": "ipython3",
   "version": "3.11.5"
  }
 },
 "nbformat": 4,
 "nbformat_minor": 5
}
