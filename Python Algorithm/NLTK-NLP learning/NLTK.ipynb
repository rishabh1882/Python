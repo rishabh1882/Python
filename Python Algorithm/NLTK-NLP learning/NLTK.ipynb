{
 "cells": [
  {
   "cell_type": "code",
   "execution_count": 1,
   "id": "b00b2991",
   "metadata": {},
   "outputs": [],
   "source": [
    "import nltk\n",
    "import pandas as pd"
   ]
  },
  {
   "cell_type": "code",
   "execution_count": 2,
   "id": "6d8ab6c1",
   "metadata": {},
   "outputs": [
    {
     "data": {
      "text/html": [
       "<div>\n",
       "<style scoped>\n",
       "    .dataframe tbody tr th:only-of-type {\n",
       "        vertical-align: middle;\n",
       "    }\n",
       "\n",
       "    .dataframe tbody tr th {\n",
       "        vertical-align: top;\n",
       "    }\n",
       "\n",
       "    .dataframe thead th {\n",
       "        text-align: right;\n",
       "    }\n",
       "</style>\n",
       "<table border=\"1\" class=\"dataframe\">\n",
       "  <thead>\n",
       "    <tr style=\"text-align: right;\">\n",
       "      <th></th>\n",
       "      <th>text</th>\n",
       "    </tr>\n",
       "  </thead>\n",
       "  <tbody>\n",
       "    <tr>\n",
       "      <th>0</th>\n",
       "      <td>This is what we are learning from Topmentor**</td>\n",
       "    </tr>\n",
       "    <tr>\n",
       "      <th>1</th>\n",
       "      <td>In this article, I will be exlaining various d...</td>\n",
       "    </tr>\n",
       "    <tr>\n",
       "      <th>2</th>\n",
       "      <td>Stay tuned for this FURTHER we will learn more &amp;&amp;</td>\n",
       "    </tr>\n",
       "    <tr>\n",
       "      <th>3</th>\n",
       "      <td>Nah i do not like the product which he was tal...</td>\n",
       "    </tr>\n",
       "  </tbody>\n",
       "</table>\n",
       "</div>"
      ],
      "text/plain": [
       "                                                text\n",
       "0      This is what we are learning from Topmentor**\n",
       "1  In this article, I will be exlaining various d...\n",
       "2  Stay tuned for this FURTHER we will learn more &&\n",
       "3  Nah i do not like the product which he was tal..."
      ]
     },
     "execution_count": 2,
     "metadata": {},
     "output_type": "execute_result"
    }
   ],
   "source": [
    "#Taking random customer reviews or random sentences\n",
    "text=['This is what we are learning from Topmentor**','In this article, I will be exlaining various data cleaning techniques',\n",
    "     'Stay tuned for this FURTHER we will learn more &&','Nah i do not like the product which he was talking']\n",
    "text\n",
    "df=pd.DataFrame({'text':text}) ## creating a dataframe\n",
    "df"
   ]
  },
  {
   "cell_type": "code",
   "execution_count": 3,
   "id": "1ea85a51",
   "metadata": {},
   "outputs": [],
   "source": [
    "df['lower']=df['text'].apply(lambda x:\" \".join(x.lower() for x in x.split()))"
   ]
  },
  {
   "cell_type": "code",
   "execution_count": 4,
   "id": "970228b8",
   "metadata": {},
   "outputs": [
    {
     "data": {
      "text/html": [
       "<div>\n",
       "<style scoped>\n",
       "    .dataframe tbody tr th:only-of-type {\n",
       "        vertical-align: middle;\n",
       "    }\n",
       "\n",
       "    .dataframe tbody tr th {\n",
       "        vertical-align: top;\n",
       "    }\n",
       "\n",
       "    .dataframe thead th {\n",
       "        text-align: right;\n",
       "    }\n",
       "</style>\n",
       "<table border=\"1\" class=\"dataframe\">\n",
       "  <thead>\n",
       "    <tr style=\"text-align: right;\">\n",
       "      <th></th>\n",
       "      <th>text</th>\n",
       "      <th>lower</th>\n",
       "    </tr>\n",
       "  </thead>\n",
       "  <tbody>\n",
       "    <tr>\n",
       "      <th>0</th>\n",
       "      <td>This is what we are learning from Topmentor**</td>\n",
       "      <td>this is what we are learning from topmentor**</td>\n",
       "    </tr>\n",
       "    <tr>\n",
       "      <th>1</th>\n",
       "      <td>In this article, I will be exlaining various d...</td>\n",
       "      <td>in this article, i will be exlaining various d...</td>\n",
       "    </tr>\n",
       "    <tr>\n",
       "      <th>2</th>\n",
       "      <td>Stay tuned for this FURTHER we will learn more &amp;&amp;</td>\n",
       "      <td>stay tuned for this further we will learn more &amp;&amp;</td>\n",
       "    </tr>\n",
       "    <tr>\n",
       "      <th>3</th>\n",
       "      <td>Nah i do not like the product which he was tal...</td>\n",
       "      <td>nah i do not like the product which he was tal...</td>\n",
       "    </tr>\n",
       "  </tbody>\n",
       "</table>\n",
       "</div>"
      ],
      "text/plain": [
       "                                                text  \\\n",
       "0      This is what we are learning from Topmentor**   \n",
       "1  In this article, I will be exlaining various d...   \n",
       "2  Stay tuned for this FURTHER we will learn more &&   \n",
       "3  Nah i do not like the product which he was tal...   \n",
       "\n",
       "                                               lower  \n",
       "0      this is what we are learning from topmentor**  \n",
       "1  in this article, i will be exlaining various d...  \n",
       "2  stay tuned for this further we will learn more &&  \n",
       "3  nah i do not like the product which he was tal...  "
      ]
     },
     "execution_count": 4,
     "metadata": {},
     "output_type": "execute_result"
    }
   ],
   "source": [
    "df"
   ]
  },
  {
   "cell_type": "code",
   "execution_count": 5,
   "id": "c2cc88fd",
   "metadata": {},
   "outputs": [],
   "source": [
    "## in the above line, we have done 3 things- first splitted the sentences in text, then lower the cases, then joined with a \" \"(space)"
   ]
  },
  {
   "cell_type": "markdown",
   "id": "77f6271f",
   "metadata": {},
   "source": [
    "### Punctuation remover"
   ]
  },
  {
   "cell_type": "code",
   "execution_count": 6,
   "id": "8de5d57f",
   "metadata": {},
   "outputs": [],
   "source": [
    "# 1st method\n",
    "import string"
   ]
  },
  {
   "cell_type": "code",
   "execution_count": 7,
   "id": "3bc572b2",
   "metadata": {},
   "outputs": [
    {
     "data": {
      "text/plain": [
       "'!\"#$%&\\'()*+,-./:;<=>?@[\\\\]^_`{|}~'"
      ]
     },
     "execution_count": 7,
     "metadata": {},
     "output_type": "execute_result"
    }
   ],
   "source": [
    "string.punctuation ## it shows all punctuations which can be removed"
   ]
  },
  {
   "cell_type": "code",
   "execution_count": 8,
   "id": "7bfb0f99",
   "metadata": {},
   "outputs": [],
   "source": [
    "df['cleaned_data']=df.lower.apply(lambda x: \"\".join(i for i in x if i not in string.punctuation))"
   ]
  },
  {
   "cell_type": "code",
   "execution_count": 9,
   "id": "fea2736f",
   "metadata": {},
   "outputs": [
    {
     "data": {
      "text/html": [
       "<div>\n",
       "<style scoped>\n",
       "    .dataframe tbody tr th:only-of-type {\n",
       "        vertical-align: middle;\n",
       "    }\n",
       "\n",
       "    .dataframe tbody tr th {\n",
       "        vertical-align: top;\n",
       "    }\n",
       "\n",
       "    .dataframe thead th {\n",
       "        text-align: right;\n",
       "    }\n",
       "</style>\n",
       "<table border=\"1\" class=\"dataframe\">\n",
       "  <thead>\n",
       "    <tr style=\"text-align: right;\">\n",
       "      <th></th>\n",
       "      <th>text</th>\n",
       "      <th>lower</th>\n",
       "      <th>cleaned_data</th>\n",
       "    </tr>\n",
       "  </thead>\n",
       "  <tbody>\n",
       "    <tr>\n",
       "      <th>0</th>\n",
       "      <td>This is what we are learning from Topmentor**</td>\n",
       "      <td>this is what we are learning from topmentor**</td>\n",
       "      <td>this is what we are learning from topmentor</td>\n",
       "    </tr>\n",
       "    <tr>\n",
       "      <th>1</th>\n",
       "      <td>In this article, I will be exlaining various d...</td>\n",
       "      <td>in this article, i will be exlaining various d...</td>\n",
       "      <td>in this article i will be exlaining various da...</td>\n",
       "    </tr>\n",
       "    <tr>\n",
       "      <th>2</th>\n",
       "      <td>Stay tuned for this FURTHER we will learn more &amp;&amp;</td>\n",
       "      <td>stay tuned for this further we will learn more &amp;&amp;</td>\n",
       "      <td>stay tuned for this further we will learn more</td>\n",
       "    </tr>\n",
       "    <tr>\n",
       "      <th>3</th>\n",
       "      <td>Nah i do not like the product which he was tal...</td>\n",
       "      <td>nah i do not like the product which he was tal...</td>\n",
       "      <td>nah i do not like the product which he was tal...</td>\n",
       "    </tr>\n",
       "  </tbody>\n",
       "</table>\n",
       "</div>"
      ],
      "text/plain": [
       "                                                text  \\\n",
       "0      This is what we are learning from Topmentor**   \n",
       "1  In this article, I will be exlaining various d...   \n",
       "2  Stay tuned for this FURTHER we will learn more &&   \n",
       "3  Nah i do not like the product which he was tal...   \n",
       "\n",
       "                                               lower  \\\n",
       "0      this is what we are learning from topmentor**   \n",
       "1  in this article, i will be exlaining various d...   \n",
       "2  stay tuned for this further we will learn more &&   \n",
       "3  nah i do not like the product which he was tal...   \n",
       "\n",
       "                                        cleaned_data  \n",
       "0        this is what we are learning from topmentor  \n",
       "1  in this article i will be exlaining various da...  \n",
       "2    stay tuned for this further we will learn more   \n",
       "3  nah i do not like the product which he was tal...  "
      ]
     },
     "execution_count": 9,
     "metadata": {},
     "output_type": "execute_result"
    }
   ],
   "source": [
    "df"
   ]
  },
  {
   "cell_type": "code",
   "execution_count": 10,
   "id": "3623e3b0",
   "metadata": {},
   "outputs": [],
   "source": [
    "#2nd method\n",
    "import re"
   ]
  },
  {
   "cell_type": "code",
   "execution_count": 11,
   "id": "c5c6c8c9",
   "metadata": {},
   "outputs": [
    {
     "data": {
      "text/plain": [
       "0          this is what we are learning from topmentor\n",
       "1    in this article i will be exlaining various da...\n",
       "2      stay tuned for this further we will learn more \n",
       "3    nah i do not like the product which he was tal...\n",
       "Name: lower, dtype: object"
      ]
     },
     "execution_count": 11,
     "metadata": {},
     "output_type": "execute_result"
    }
   ],
   "source": [
    "df.lower.apply(lambda x:''.join(re.findall(r'[a-zA-Z+\" \"]',x)))"
   ]
  },
  {
   "cell_type": "markdown",
   "id": "64b0da2a",
   "metadata": {},
   "source": [
    "### STOPWORDS"
   ]
  },
  {
   "cell_type": "code",
   "execution_count": 12,
   "id": "d78800a6",
   "metadata": {},
   "outputs": [
    {
     "name": "stderr",
     "output_type": "stream",
     "text": [
      "[nltk_data] Downloading package stopwords to\n",
      "[nltk_data]     C:\\Users\\91878\\AppData\\Roaming\\nltk_data...\n",
      "[nltk_data]   Package stopwords is already up-to-date!\n"
     ]
    },
    {
     "data": {
      "text/plain": [
       "True"
      ]
     },
     "execution_count": 12,
     "metadata": {},
     "output_type": "execute_result"
    }
   ],
   "source": [
    "import nltk\n",
    "nltk.download ('stopwords')"
   ]
  },
  {
   "cell_type": "code",
   "execution_count": 13,
   "id": "82a21ad6",
   "metadata": {},
   "outputs": [],
   "source": [
    "from nltk.corpus import stopwords"
   ]
  },
  {
   "cell_type": "code",
   "execution_count": 14,
   "id": "4bab2f2c",
   "metadata": {},
   "outputs": [
    {
     "name": "stdout",
     "output_type": "stream",
     "text": [
      "['i', 'me', 'my', 'myself', 'we', 'our', 'ours', 'ourselves', 'you', \"you're\", \"you've\", \"you'll\", \"you'd\", 'your', 'yours', 'yourself', 'yourselves', 'he', 'him', 'his', 'himself', 'she', \"she's\", 'her', 'hers', 'herself', 'it', \"it's\", 'its', 'itself', 'they', 'them', 'their', 'theirs', 'themselves', 'what', 'which', 'who', 'whom', 'this', 'that', \"that'll\", 'these', 'those', 'am', 'is', 'are', 'was', 'were', 'be', 'been', 'being', 'have', 'has', 'had', 'having', 'do', 'does', 'did', 'doing', 'a', 'an', 'the', 'and', 'but', 'if', 'or', 'because', 'as', 'until', 'while', 'of', 'at', 'by', 'for', 'with', 'about', 'against', 'between', 'into', 'through', 'during', 'before', 'after', 'above', 'below', 'to', 'from', 'up', 'down', 'in', 'out', 'on', 'off', 'over', 'under', 'again', 'further', 'then', 'once', 'here', 'there', 'when', 'where', 'why', 'how', 'all', 'any', 'both', 'each', 'few', 'more', 'most', 'other', 'some', 'such', 'no', 'nor', 'not', 'only', 'own', 'same', 'so', 'than', 'too', 'very', 's', 't', 'can', 'will', 'just', 'don', \"don't\", 'should', \"should've\", 'now', 'd', 'll', 'm', 'o', 're', 've', 'y', 'ain', 'aren', \"aren't\", 'couldn', \"couldn't\", 'didn', \"didn't\", 'doesn', \"doesn't\", 'hadn', \"hadn't\", 'hasn', \"hasn't\", 'haven', \"haven't\", 'isn', \"isn't\", 'ma', 'mightn', \"mightn't\", 'mustn', \"mustn't\", 'needn', \"needn't\", 'shan', \"shan't\", 'shouldn', \"shouldn't\", 'wasn', \"wasn't\", 'weren', \"weren't\", 'won', \"won't\", 'wouldn', \"wouldn't\"]\n"
     ]
    }
   ],
   "source": [
    "all_stopwords=stopwords.words('english')\n",
    "print(all_stopwords)"
   ]
  },
  {
   "cell_type": "code",
   "execution_count": 15,
   "id": "7beef76a",
   "metadata": {},
   "outputs": [],
   "source": [
    "df['new_text']=df.cleaned_data.apply(lambda x:\" \".join(i for i in x.split() if i not in all_stopwords))"
   ]
  },
  {
   "cell_type": "code",
   "execution_count": 16,
   "id": "8d8fa9df",
   "metadata": {},
   "outputs": [
    {
     "name": "stdout",
     "output_type": "stream",
     "text": [
      "                                                text  \\\n",
      "0      This is what we are learning from Topmentor**   \n",
      "1  In this article, I will be exlaining various d...   \n",
      "2  Stay tuned for this FURTHER we will learn more &&   \n",
      "3  Nah i do not like the product which he was tal...   \n",
      "\n",
      "                                               lower  \\\n",
      "0      this is what we are learning from topmentor**   \n",
      "1  in this article, i will be exlaining various d...   \n",
      "2  stay tuned for this further we will learn more &&   \n",
      "3  nah i do not like the product which he was tal...   \n",
      "\n",
      "                                        cleaned_data  \\\n",
      "0        this is what we are learning from topmentor   \n",
      "1  in this article i will be exlaining various da...   \n",
      "2    stay tuned for this further we will learn more    \n",
      "3  nah i do not like the product which he was tal...   \n",
      "\n",
      "                                            new_text  \n",
      "0                                 learning topmentor  \n",
      "1  article exlaining various data cleaning techni...  \n",
      "2                                   stay tuned learn  \n",
      "3                           nah like product talking  \n"
     ]
    }
   ],
   "source": [
    "print(df)"
   ]
  },
  {
   "cell_type": "markdown",
   "id": "f48ffb64",
   "metadata": {},
   "source": [
    "### STEMMING"
   ]
  },
  {
   "cell_type": "code",
   "execution_count": 17,
   "id": "b194e5ae",
   "metadata": {},
   "outputs": [],
   "source": [
    "from nltk.stem import PorterStemmer"
   ]
  },
  {
   "cell_type": "code",
   "execution_count": 18,
   "id": "2770dfb3",
   "metadata": {},
   "outputs": [],
   "source": [
    "st=PorterStemmer()"
   ]
  },
  {
   "cell_type": "code",
   "execution_count": 19,
   "id": "8c66a879",
   "metadata": {},
   "outputs": [
    {
     "data": {
      "text/plain": [
       "0                             learn topmentor\n",
       "1    articl exlain variou data clean techniqu\n",
       "2                             stay tune learn\n",
       "3                       nah like product talk\n",
       "Name: new_text, dtype: object"
      ]
     },
     "execution_count": 19,
     "metadata": {},
     "output_type": "execute_result"
    }
   ],
   "source": [
    "df.new_text.apply(lambda x:\" \".join(st.stem(word) for word in x.split()))"
   ]
  },
  {
   "cell_type": "markdown",
   "id": "57a43c0a",
   "metadata": {},
   "source": [
    "### LEMMATIZATION"
   ]
  },
  {
   "cell_type": "code",
   "execution_count": 20,
   "id": "50a804de",
   "metadata": {},
   "outputs": [],
   "source": [
    "from nltk.stem import WordNetLemmatizer"
   ]
  },
  {
   "cell_type": "code",
   "execution_count": 21,
   "id": "c570734a",
   "metadata": {},
   "outputs": [
    {
     "name": "stderr",
     "output_type": "stream",
     "text": [
      "[nltk_data] Downloading package wordnet to\n",
      "[nltk_data]     C:\\Users\\91878\\AppData\\Roaming\\nltk_data...\n",
      "[nltk_data]   Package wordnet is already up-to-date!\n"
     ]
    },
    {
     "data": {
      "text/plain": [
       "True"
      ]
     },
     "execution_count": 21,
     "metadata": {},
     "output_type": "execute_result"
    }
   ],
   "source": [
    "nltk.download('wordnet')"
   ]
  },
  {
   "cell_type": "code",
   "execution_count": 22,
   "id": "8a68b8cb",
   "metadata": {},
   "outputs": [],
   "source": [
    "lm=WordNetLemmatizer()"
   ]
  },
  {
   "cell_type": "code",
   "execution_count": 23,
   "id": "14a27dc7",
   "metadata": {},
   "outputs": [],
   "source": [
    "df['processed_data']=df.new_text.apply(lambda x:\" \".join(lm.lemmatize(word) for word in x.split()))"
   ]
  },
  {
   "cell_type": "code",
   "execution_count": 24,
   "id": "e81a5b2d",
   "metadata": {},
   "outputs": [
    {
     "data": {
      "text/html": [
       "<div>\n",
       "<style scoped>\n",
       "    .dataframe tbody tr th:only-of-type {\n",
       "        vertical-align: middle;\n",
       "    }\n",
       "\n",
       "    .dataframe tbody tr th {\n",
       "        vertical-align: top;\n",
       "    }\n",
       "\n",
       "    .dataframe thead th {\n",
       "        text-align: right;\n",
       "    }\n",
       "</style>\n",
       "<table border=\"1\" class=\"dataframe\">\n",
       "  <thead>\n",
       "    <tr style=\"text-align: right;\">\n",
       "      <th></th>\n",
       "      <th>text</th>\n",
       "      <th>lower</th>\n",
       "      <th>cleaned_data</th>\n",
       "      <th>new_text</th>\n",
       "      <th>processed_data</th>\n",
       "    </tr>\n",
       "  </thead>\n",
       "  <tbody>\n",
       "    <tr>\n",
       "      <th>0</th>\n",
       "      <td>This is what we are learning from Topmentor**</td>\n",
       "      <td>this is what we are learning from topmentor**</td>\n",
       "      <td>this is what we are learning from topmentor</td>\n",
       "      <td>learning topmentor</td>\n",
       "      <td>learning topmentor</td>\n",
       "    </tr>\n",
       "    <tr>\n",
       "      <th>1</th>\n",
       "      <td>In this article, I will be exlaining various d...</td>\n",
       "      <td>in this article, i will be exlaining various d...</td>\n",
       "      <td>in this article i will be exlaining various da...</td>\n",
       "      <td>article exlaining various data cleaning techni...</td>\n",
       "      <td>article exlaining various data cleaning technique</td>\n",
       "    </tr>\n",
       "    <tr>\n",
       "      <th>2</th>\n",
       "      <td>Stay tuned for this FURTHER we will learn more &amp;&amp;</td>\n",
       "      <td>stay tuned for this further we will learn more &amp;&amp;</td>\n",
       "      <td>stay tuned for this further we will learn more</td>\n",
       "      <td>stay tuned learn</td>\n",
       "      <td>stay tuned learn</td>\n",
       "    </tr>\n",
       "    <tr>\n",
       "      <th>3</th>\n",
       "      <td>Nah i do not like the product which he was tal...</td>\n",
       "      <td>nah i do not like the product which he was tal...</td>\n",
       "      <td>nah i do not like the product which he was tal...</td>\n",
       "      <td>nah like product talking</td>\n",
       "      <td>nah like product talking</td>\n",
       "    </tr>\n",
       "  </tbody>\n",
       "</table>\n",
       "</div>"
      ],
      "text/plain": [
       "                                                text  \\\n",
       "0      This is what we are learning from Topmentor**   \n",
       "1  In this article, I will be exlaining various d...   \n",
       "2  Stay tuned for this FURTHER we will learn more &&   \n",
       "3  Nah i do not like the product which he was tal...   \n",
       "\n",
       "                                               lower  \\\n",
       "0      this is what we are learning from topmentor**   \n",
       "1  in this article, i will be exlaining various d...   \n",
       "2  stay tuned for this further we will learn more &&   \n",
       "3  nah i do not like the product which he was tal...   \n",
       "\n",
       "                                        cleaned_data  \\\n",
       "0        this is what we are learning from topmentor   \n",
       "1  in this article i will be exlaining various da...   \n",
       "2    stay tuned for this further we will learn more    \n",
       "3  nah i do not like the product which he was tal...   \n",
       "\n",
       "                                            new_text  \\\n",
       "0                                 learning topmentor   \n",
       "1  article exlaining various data cleaning techni...   \n",
       "2                                   stay tuned learn   \n",
       "3                           nah like product talking   \n",
       "\n",
       "                                      processed_data  \n",
       "0                                 learning topmentor  \n",
       "1  article exlaining various data cleaning technique  \n",
       "2                                   stay tuned learn  \n",
       "3                           nah like product talking  "
      ]
     },
     "execution_count": 24,
     "metadata": {},
     "output_type": "execute_result"
    }
   ],
   "source": [
    "df"
   ]
  },
  {
   "cell_type": "markdown",
   "id": "f95ee921",
   "metadata": {},
   "source": [
    "### EDA Explorations"
   ]
  },
  {
   "cell_type": "code",
   "execution_count": 25,
   "id": "ba621797",
   "metadata": {},
   "outputs": [],
   "source": [
    "## to check all the words in sentence\n",
    "all_words=[]\n",
    "for i in df['processed_data']:\n",
    "    all_words.extend(i.split())"
   ]
  },
  {
   "cell_type": "code",
   "execution_count": 26,
   "id": "659e4623",
   "metadata": {},
   "outputs": [
    {
     "data": {
      "text/plain": [
       "['learning',\n",
       " 'topmentor',\n",
       " 'article',\n",
       " 'exlaining',\n",
       " 'various',\n",
       " 'data',\n",
       " 'cleaning',\n",
       " 'technique',\n",
       " 'stay',\n",
       " 'tuned',\n",
       " 'learn',\n",
       " 'nah',\n",
       " 'like',\n",
       " 'product',\n",
       " 'talking']"
      ]
     },
     "execution_count": 26,
     "metadata": {},
     "output_type": "execute_result"
    }
   ],
   "source": [
    "all_words"
   ]
  },
  {
   "cell_type": "code",
   "execution_count": 28,
   "id": "0203f761",
   "metadata": {},
   "outputs": [],
   "source": [
    "k=nltk.FreqDist(all_words) ## to check the frequency of words"
   ]
  },
  {
   "cell_type": "code",
   "execution_count": 31,
   "id": "0fed9976",
   "metadata": {},
   "outputs": [
    {
     "data": {
      "text/plain": [
       "FreqDist({'learning': 1, 'topmentor': 1, 'article': 1, 'exlaining': 1, 'various': 1, 'data': 1, 'cleaning': 1, 'technique': 1, 'stay': 1, 'tuned': 1, ...})"
      ]
     },
     "execution_count": 31,
     "metadata": {},
     "output_type": "execute_result"
    }
   ],
   "source": [
    "k"
   ]
  },
  {
   "cell_type": "code",
   "execution_count": 29,
   "id": "00ba529a",
   "metadata": {},
   "outputs": [
    {
     "data": {
      "text/plain": [
       "dict_values([1, 1, 1, 1, 1, 1, 1, 1, 1, 1, 1, 1, 1, 1, 1])"
      ]
     },
     "execution_count": 29,
     "metadata": {},
     "output_type": "execute_result"
    }
   ],
   "source": [
    "k.values()"
   ]
  },
  {
   "cell_type": "code",
   "execution_count": 30,
   "id": "cb08f84c",
   "metadata": {},
   "outputs": [
    {
     "data": {
      "text/plain": [
       "dict_keys(['learning', 'topmentor', 'article', 'exlaining', 'various', 'data', 'cleaning', 'technique', 'stay', 'tuned', 'learn', 'nah', 'like', 'product', 'talking'])"
      ]
     },
     "execution_count": 30,
     "metadata": {},
     "output_type": "execute_result"
    }
   ],
   "source": [
    "k.keys()"
   ]
  },
  {
   "cell_type": "markdown",
   "id": "67952730",
   "metadata": {},
   "source": [
    "### WordCloud "
   ]
  },
  {
   "cell_type": "code",
   "execution_count": 32,
   "id": "364ce919",
   "metadata": {
    "collapsed": true
   },
   "outputs": [
    {
     "name": "stdout",
     "output_type": "stream",
     "text": [
      "Collecting wordcloud\n",
      "  Obtaining dependency information for wordcloud from https://files.pythonhosted.org/packages/f5/b0/247159f61c5d5d6647171bef84430b7efad4db504f0229674024f3a4f7f2/wordcloud-1.9.3-cp311-cp311-win_amd64.whl.metadata\n",
      "  Downloading wordcloud-1.9.3-cp311-cp311-win_amd64.whl.metadata (3.5 kB)\n",
      "Requirement already satisfied: numpy>=1.6.1 in c:\\users\\91878\\anaconda3\\lib\\site-packages (from wordcloud) (1.24.3)\n",
      "Requirement already satisfied: pillow in c:\\users\\91878\\anaconda3\\lib\\site-packages (from wordcloud) (9.4.0)\n",
      "Requirement already satisfied: matplotlib in c:\\users\\91878\\anaconda3\\lib\\site-packages (from wordcloud) (3.7.2)\n",
      "Requirement already satisfied: contourpy>=1.0.1 in c:\\users\\91878\\anaconda3\\lib\\site-packages (from matplotlib->wordcloud) (1.0.5)\n",
      "Requirement already satisfied: cycler>=0.10 in c:\\users\\91878\\anaconda3\\lib\\site-packages (from matplotlib->wordcloud) (0.11.0)\n",
      "Requirement already satisfied: fonttools>=4.22.0 in c:\\users\\91878\\anaconda3\\lib\\site-packages (from matplotlib->wordcloud) (4.25.0)\n",
      "Requirement already satisfied: kiwisolver>=1.0.1 in c:\\users\\91878\\anaconda3\\lib\\site-packages (from matplotlib->wordcloud) (1.4.4)\n",
      "Requirement already satisfied: packaging>=20.0 in c:\\users\\91878\\anaconda3\\lib\\site-packages (from matplotlib->wordcloud) (23.1)\n",
      "Requirement already satisfied: pyparsing<3.1,>=2.3.1 in c:\\users\\91878\\anaconda3\\lib\\site-packages (from matplotlib->wordcloud) (3.0.9)\n",
      "Requirement already satisfied: python-dateutil>=2.7 in c:\\users\\91878\\anaconda3\\lib\\site-packages (from matplotlib->wordcloud) (2.8.2)\n",
      "Requirement already satisfied: six>=1.5 in c:\\users\\91878\\anaconda3\\lib\\site-packages (from python-dateutil>=2.7->matplotlib->wordcloud) (1.16.0)\n",
      "Downloading wordcloud-1.9.3-cp311-cp311-win_amd64.whl (300 kB)\n",
      "   ---------------------------------------- 0.0/300.2 kB ? eta -:--:--\n",
      "   - -------------------------------------- 10.2/300.2 kB ? eta -:--:--\n",
      "   --- ----------------------------------- 30.7/300.2 kB 330.3 kB/s eta 0:00:01\n",
      "   -------------- ----------------------- 112.6/300.2 kB 939.4 kB/s eta 0:00:01\n",
      "   ---------------------------------- ----- 256.0/300.2 kB 1.8 MB/s eta 0:00:01\n",
      "   ---------------------------------------- 300.2/300.2 kB 1.7 MB/s eta 0:00:00\n",
      "Installing collected packages: wordcloud\n",
      "Successfully installed wordcloud-1.9.3\n"
     ]
    }
   ],
   "source": [
    "!pip install wordcloud\n",
    "from wordcloud import WordCloud"
   ]
  },
  {
   "cell_type": "code",
   "execution_count": 39,
   "id": "49eb0c43",
   "metadata": {},
   "outputs": [],
   "source": [
    "import matplotlib.pyplot as plt"
   ]
  },
  {
   "cell_type": "code",
   "execution_count": 34,
   "id": "bd0ccd15",
   "metadata": {},
   "outputs": [],
   "source": [
    "words=[]\n",
    "for i in df['processed_data']:\n",
    "    words.extend([word for word in i.split()])"
   ]
  },
  {
   "cell_type": "code",
   "execution_count": 36,
   "id": "cf964f57",
   "metadata": {},
   "outputs": [
    {
     "data": {
      "text/plain": [
       "['learning',\n",
       " 'topmentor',\n",
       " 'article',\n",
       " 'exlaining',\n",
       " 'various',\n",
       " 'data',\n",
       " 'cleaning',\n",
       " 'technique',\n",
       " 'stay',\n",
       " 'tuned',\n",
       " 'learn',\n",
       " 'nah',\n",
       " 'like',\n",
       " 'product',\n",
       " 'talking']"
      ]
     },
     "execution_count": 36,
     "metadata": {},
     "output_type": "execute_result"
    }
   ],
   "source": [
    "words"
   ]
  },
  {
   "cell_type": "code",
   "execution_count": 42,
   "id": "e4a5aac3",
   "metadata": {},
   "outputs": [
    {
     "data": {
      "image/png": "[encoded data removed]",
      "text/plain": [
       "<Figure size 640x480 with 1 Axes>"
      ]
     },
     "metadata": {},
     "output_type": "display_data"
    }
   ],
   "source": [
    "# For making a word cloud\n",
    "wordcloud=WordCloud(width=1000, height=500).generate(\" \".join(words))\n",
    "plt.imshow(wordcloud)\n",
    "plt.show()"
   ]
  },
  {
   "cell_type": "markdown",
   "id": "d4a2deb0",
   "metadata": {},
   "source": [
    "### TextBlob"
   ]
  },
  {
   "cell_type": "code",
   "execution_count": 43,
   "id": "caef1fa3",
   "metadata": {},
   "outputs": [
    {
     "name": "stdout",
     "output_type": "stream",
     "text": [
      "Collecting textblob\n",
      "  Downloading textblob-0.17.1-py2.py3-none-any.whl (636 kB)\n",
      "     ---------------------------------------- 0.0/636.8 kB ? eta -:--:--\n",
      "      --------------------------------------- 10.2/636.8 kB ? eta -:--:--\n",
      "      --------------------------------------- 10.2/636.8 kB ? eta -:--:--\n",
      "     ---- -------------------------------- 81.9/636.8 kB 657.6 kB/s eta 0:00:01\n",
      "     ----- ------------------------------- 92.2/636.8 kB 655.4 kB/s eta 0:00:01\n",
      "     --------- -------------------------- 163.8/636.8 kB 756.6 kB/s eta 0:00:01\n",
      "     -------------- ----------------------- 245.8/636.8 kB 1.0 MB/s eta 0:00:01\n",
      "     --------------------- ---------------- 368.6/636.8 kB 1.3 MB/s eta 0:00:01\n",
      "     --------------------------- ---------- 460.8/636.8 kB 1.4 MB/s eta 0:00:01\n",
      "     ----------------------------------- -- 593.9/636.8 kB 1.6 MB/s eta 0:00:01\n",
      "     -------------------------------------  634.9/636.8 kB 1.6 MB/s eta 0:00:01\n",
      "     -------------------------------------- 636.8/636.8 kB 1.5 MB/s eta 0:00:00\n",
      "Requirement already satisfied: nltk>=3.1 in c:\\users\\91878\\anaconda3\\lib\\site-packages (from textblob) (3.8.1)\n",
      "Requirement already satisfied: click in c:\\users\\91878\\anaconda3\\lib\\site-packages (from nltk>=3.1->textblob) (8.0.4)\n",
      "Requirement already satisfied: joblib in c:\\users\\91878\\anaconda3\\lib\\site-packages (from nltk>=3.1->textblob) (1.2.0)\n",
      "Requirement already satisfied: regex>=2021.8.3 in c:\\users\\91878\\anaconda3\\lib\\site-packages (from nltk>=3.1->textblob) (2022.7.9)\n",
      "Requirement already satisfied: tqdm in c:\\users\\91878\\anaconda3\\lib\\site-packages (from nltk>=3.1->textblob) (4.65.0)\n",
      "Requirement already satisfied: colorama in c:\\users\\91878\\anaconda3\\lib\\site-packages (from click->nltk>=3.1->textblob) (0.4.6)\n",
      "Installing collected packages: textblob\n",
      "Successfully installed textblob-0.17.1\n"
     ]
    }
   ],
   "source": [
    "!pip install textblob"
   ]
  },
  {
   "cell_type": "code",
   "execution_count": 44,
   "id": "935fd7db",
   "metadata": {},
   "outputs": [],
   "source": [
    "from textblob import TextBlob"
   ]
  },
  {
   "cell_type": "code",
   "execution_count": 46,
   "id": "1c15835f",
   "metadata": {},
   "outputs": [
    {
     "name": "stderr",
     "output_type": "stream",
     "text": [
      "[nltk_data] Downloading package averaged_perceptron_tagger to\n",
      "[nltk_data]     C:\\Users\\91878\\AppData\\Roaming\\nltk_data...\n",
      "[nltk_data]   Unzipping taggers\\averaged_perceptron_tagger.zip.\n"
     ]
    },
    {
     "data": {
      "text/plain": [
       "True"
      ]
     },
     "execution_count": 46,
     "metadata": {},
     "output_type": "execute_result"
    }
   ],
   "source": [
    "nltk.download('averaged_perceptron_tagger')"
   ]
  },
  {
   "cell_type": "code",
   "execution_count": 47,
   "id": "b378e232",
   "metadata": {},
   "outputs": [
    {
     "data": {
      "text/plain": [
       "[('Python', 'NNP'),\n",
       " ('is', 'VBZ'),\n",
       " ('a', 'DT'),\n",
       " ('high-level', 'JJ'),\n",
       " ('general', 'JJ'),\n",
       " ('purpose', 'NN'),\n",
       " ('programming', 'NN'),\n",
       " ('language', 'NN')]"
      ]
     },
     "execution_count": 47,
     "metadata": {},
     "output_type": "execute_result"
    }
   ],
   "source": [
    "wiki=TextBlob(\"Python is a high-level general purpose programming language\")\n",
    "wiki.tags"
   ]
  },
  {
   "cell_type": "code",
   "execution_count": 48,
   "id": "86a852b1",
   "metadata": {},
   "outputs": [
    {
     "data": {
      "text/plain": [
       "Sentiment(polarity=0.05000000000000002, subjectivity=0.5)"
      ]
     },
     "execution_count": 48,
     "metadata": {},
     "output_type": "execute_result"
    }
   ],
   "source": [
    "wiki.sentiment"
   ]
  },
  {
   "cell_type": "code",
   "execution_count": null,
   "id": "365d8a23",
   "metadata": {},
   "outputs": [],
   "source": []
  }
 ],
 "metadata": {
  "kernelspec": {
   "display_name": "Python 3 (ipykernel)",
   "language": "python",
   "name": "python3"
  },
  "language_info": {
   "codemirror_mode": {
    "name": "ipython",
    "version": 3
   },
   "file_extension": ".py",
   "mimetype": "text/x-python",
   "name": "python",
   "nbconvert_exporter": "python",
   "pygments_lexer": "ipython3",
   "version": "3.11.5"
  }
 },
 "nbformat": 4,
 "nbformat_minor": 5
}
